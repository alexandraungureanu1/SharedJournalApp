{
  "nbformat": 4,
  "nbformat_minor": 0,
  "metadata": {
    "colab": {
      "provenance": []
    },
    "kernelspec": {
      "name": "python3",
      "display_name": "Python 3"
    },
    "language_info": {
      "name": "python"
    }
  },
  "cells": [
    {
      "cell_type": "code",
      "execution_count": null,
      "metadata": {
        "id": "Fh7B7szJtcsa"
      },
      "outputs": [],
      "source": [
        "! pip install kaggle\n",
        "! mkdir ~/.kaggle\n",
        "! cp kaggle.json ~/.kaggle/\n",
        "! chmod 600 ~/.kaggle/kaggle.json"
      ]
    },
    {
      "cell_type": "code",
      "source": [
        "!kaggle datasets download -d uwrfkaggler/ravdess-emotional-speech-audio"
      ],
      "metadata": {
        "colab": {
          "base_uri": "https://localhost:8080/"
        },
        "id": "D-zu5bo7tiHV",
        "outputId": "dd493215-13c4-41cd-99ba-8fa6f55c9aef"
      },
      "execution_count": null,
      "outputs": [
        {
          "output_type": "stream",
          "name": "stdout",
          "text": [
            "Downloading ravdess-emotional-speech-audio.zip to /content\n",
            "100% 428M/429M [00:11<00:00, 40.0MB/s]\n",
            "100% 429M/429M [00:11<00:00, 38.1MB/s]\n"
          ]
        }
      ]
    },
    {
      "cell_type": "code",
      "source": [
        "!unzip /content/ravdess-emotional-speech-audio.zip -d /content/dataset"
      ],
      "metadata": {
        "id": "tdqQCwmCtuKf"
      },
      "execution_count": null,
      "outputs": []
    },
    {
      "cell_type": "code",
      "source": [
        "import pandas as pd\n",
        "import numpy as np\n",
        "\n",
        "import os\n",
        "import sys\n",
        "\n",
        "import librosa\n",
        "import librosa.display\n",
        "import seaborn as sns\n",
        "import matplotlib.pyplot as plt\n",
        "\n",
        "from sklearn.preprocessing import StandardScaler, OneHotEncoder\n",
        "from sklearn.metrics import confusion_matrix, classification_report\n",
        "from sklearn.model_selection import train_test_split\n",
        "\n",
        "from IPython.display import Audio\n",
        "\n",
        "import keras\n",
        "from keras.callbacks import ReduceLROnPlateau\n",
        "from keras.models import Sequential\n",
        "from keras.layers import Dense, Conv1D, MaxPooling1D, Flatten, Dropout, BatchNormalization\n",
        "from keras.utils import np_utils, to_categorical\n",
        "from keras.callbacks import ModelCheckpoint"
      ],
      "metadata": {
        "id": "co_JnrlcuIqW"
      },
      "execution_count": null,
      "outputs": []
    },
    {
      "cell_type": "code",
      "source": [
        "dataset_path = \"/content/dataset/\""
      ],
      "metadata": {
        "id": "smGpzQgsuNzo"
      },
      "execution_count": null,
      "outputs": []
    },
    {
      "cell_type": "code",
      "source": [
        "import os\n",
        "import pandas as pd\n",
        "\n",
        "ravdess_directory_list = os.listdir(dataset_path)\n",
        "\n",
        "data = []\n",
        "\n",
        "for dir in ravdess_directory_list:\n",
        "    actor_path = os.path.join(dataset_path, dir)\n",
        "    actor_files = os.listdir(actor_path)\n",
        "\n",
        "    for file in actor_files:\n",
        "        parts = file.split('.')[0].split('-')\n",
        "\n",
        "        if len(parts) >= 3:\n",
        "            emotion = int(parts[2])\n",
        "            file_path = os.path.join(actor_path, file)\n",
        "\n",
        "            data.append({'Emotions': emotion, 'Path': file_path})\n",
        "\n",
        "ravdess_df = pd.DataFrame(data)\n",
        "\n",
        "# Mapping integer labels to actual emotions\n",
        "emotion_mapping = {\n",
        "    1: 'neutral',\n",
        "    2: 'calm',\n",
        "    3: 'happy',\n",
        "    4: 'sad',\n",
        "    5: 'angry',\n",
        "    6: 'fear',\n",
        "    7: 'disgust',\n",
        "    8: 'surprise'\n",
        "}\n",
        "\n",
        "ravdess_df['Emotions'] = Ravdess_df['Emotions'].map(emotion_mapping)\n",
        "\n",
        "ravdess_df.head()"
      ],
      "metadata": {
        "colab": {
          "base_uri": "https://localhost:8080/",
          "height": 206
        },
        "id": "ooD_3O6TuVII",
        "outputId": "f856a0a3-14be-4e9d-d378-c8f4d68ca316"
      },
      "execution_count": null,
      "outputs": [
        {
          "output_type": "execute_result",
          "data": {
            "text/plain": [
              "   Emotions                                               Path\n",
              "0     angry  /content/dataset/Actor_02/03-01-05-01-02-02-02...\n",
              "1       sad  /content/dataset/Actor_02/03-01-04-01-01-02-02...\n",
              "2       sad  /content/dataset/Actor_02/03-01-04-01-01-01-02...\n",
              "3      calm  /content/dataset/Actor_02/03-01-02-01-02-01-02...\n",
              "4  surprise  /content/dataset/Actor_02/03-01-08-02-01-01-02..."
            ],
            "text/html": [
              "\n",
              "  <div id=\"df-69544ae3-b3fe-4a0e-b0fe-0ce848e71633\">\n",
              "    <div class=\"colab-df-container\">\n",
              "      <div>\n",
              "<style scoped>\n",
              "    .dataframe tbody tr th:only-of-type {\n",
              "        vertical-align: middle;\n",
              "    }\n",
              "\n",
              "    .dataframe tbody tr th {\n",
              "        vertical-align: top;\n",
              "    }\n",
              "\n",
              "    .dataframe thead th {\n",
              "        text-align: right;\n",
              "    }\n",
              "</style>\n",
              "<table border=\"1\" class=\"dataframe\">\n",
              "  <thead>\n",
              "    <tr style=\"text-align: right;\">\n",
              "      <th></th>\n",
              "      <th>Emotions</th>\n",
              "      <th>Path</th>\n",
              "    </tr>\n",
              "  </thead>\n",
              "  <tbody>\n",
              "    <tr>\n",
              "      <th>0</th>\n",
              "      <td>angry</td>\n",
              "      <td>/content/dataset/Actor_02/03-01-05-01-02-02-02...</td>\n",
              "    </tr>\n",
              "    <tr>\n",
              "      <th>1</th>\n",
              "      <td>sad</td>\n",
              "      <td>/content/dataset/Actor_02/03-01-04-01-01-02-02...</td>\n",
              "    </tr>\n",
              "    <tr>\n",
              "      <th>2</th>\n",
              "      <td>sad</td>\n",
              "      <td>/content/dataset/Actor_02/03-01-04-01-01-01-02...</td>\n",
              "    </tr>\n",
              "    <tr>\n",
              "      <th>3</th>\n",
              "      <td>calm</td>\n",
              "      <td>/content/dataset/Actor_02/03-01-02-01-02-01-02...</td>\n",
              "    </tr>\n",
              "    <tr>\n",
              "      <th>4</th>\n",
              "      <td>surprise</td>\n",
              "      <td>/content/dataset/Actor_02/03-01-08-02-01-01-02...</td>\n",
              "    </tr>\n",
              "  </tbody>\n",
              "</table>\n",
              "</div>\n",
              "      <button class=\"colab-df-convert\" onclick=\"convertToInteractive('df-69544ae3-b3fe-4a0e-b0fe-0ce848e71633')\"\n",
              "              title=\"Convert this dataframe to an interactive table.\"\n",
              "              style=\"display:none;\">\n",
              "        \n",
              "  <svg xmlns=\"http://www.w3.org/2000/svg\" height=\"24px\"viewBox=\"0 0 24 24\"\n",
              "       width=\"24px\">\n",
              "    <path d=\"M0 0h24v24H0V0z\" fill=\"none\"/>\n",
              "    <path d=\"M18.56 5.44l.94 2.06.94-2.06 2.06-.94-2.06-.94-.94-2.06-.94 2.06-2.06.94zm-11 1L8.5 8.5l.94-2.06 2.06-.94-2.06-.94L8.5 2.5l-.94 2.06-2.06.94zm10 10l.94 2.06.94-2.06 2.06-.94-2.06-.94-.94-2.06-.94 2.06-2.06.94z\"/><path d=\"M17.41 7.96l-1.37-1.37c-.4-.4-.92-.59-1.43-.59-.52 0-1.04.2-1.43.59L10.3 9.45l-7.72 7.72c-.78.78-.78 2.05 0 2.83L4 21.41c.39.39.9.59 1.41.59.51 0 1.02-.2 1.41-.59l7.78-7.78 2.81-2.81c.8-.78.8-2.07 0-2.86zM5.41 20L4 18.59l7.72-7.72 1.47 1.35L5.41 20z\"/>\n",
              "  </svg>\n",
              "      </button>\n",
              "      \n",
              "  <style>\n",
              "    .colab-df-container {\n",
              "      display:flex;\n",
              "      flex-wrap:wrap;\n",
              "      gap: 12px;\n",
              "    }\n",
              "\n",
              "    .colab-df-convert {\n",
              "      background-color: #E8F0FE;\n",
              "      border: none;\n",
              "      border-radius: 50%;\n",
              "      cursor: pointer;\n",
              "      display: none;\n",
              "      fill: #1967D2;\n",
              "      height: 32px;\n",
              "      padding: 0 0 0 0;\n",
              "      width: 32px;\n",
              "    }\n",
              "\n",
              "    .colab-df-convert:hover {\n",
              "      background-color: #E2EBFA;\n",
              "      box-shadow: 0px 1px 2px rgba(60, 64, 67, 0.3), 0px 1px 3px 1px rgba(60, 64, 67, 0.15);\n",
              "      fill: #174EA6;\n",
              "    }\n",
              "\n",
              "    [theme=dark] .colab-df-convert {\n",
              "      background-color: #3B4455;\n",
              "      fill: #D2E3FC;\n",
              "    }\n",
              "\n",
              "    [theme=dark] .colab-df-convert:hover {\n",
              "      background-color: #434B5C;\n",
              "      box-shadow: 0px 1px 3px 1px rgba(0, 0, 0, 0.15);\n",
              "      filter: drop-shadow(0px 1px 2px rgba(0, 0, 0, 0.3));\n",
              "      fill: #FFFFFF;\n",
              "    }\n",
              "  </style>\n",
              "\n",
              "      <script>\n",
              "        const buttonEl =\n",
              "          document.querySelector('#df-69544ae3-b3fe-4a0e-b0fe-0ce848e71633 button.colab-df-convert');\n",
              "        buttonEl.style.display =\n",
              "          google.colab.kernel.accessAllowed ? 'block' : 'none';\n",
              "\n",
              "        async function convertToInteractive(key) {\n",
              "          const element = document.querySelector('#df-69544ae3-b3fe-4a0e-b0fe-0ce848e71633');\n",
              "          const dataTable =\n",
              "            await google.colab.kernel.invokeFunction('convertToInteractive',\n",
              "                                                     [key], {});\n",
              "          if (!dataTable) return;\n",
              "\n",
              "          const docLinkHtml = 'Like what you see? Visit the ' +\n",
              "            '<a target=\"_blank\" href=https://colab.research.google.com/notebooks/data_table.ipynb>data table notebook</a>'\n",
              "            + ' to learn more about interactive tables.';\n",
              "          element.innerHTML = '';\n",
              "          dataTable['output_type'] = 'display_data';\n",
              "          await google.colab.output.renderOutput(dataTable, element);\n",
              "          const docLink = document.createElement('div');\n",
              "          docLink.innerHTML = docLinkHtml;\n",
              "          element.appendChild(docLink);\n",
              "        }\n",
              "      </script>\n",
              "    </div>\n",
              "  </div>\n",
              "  "
            ]
          },
          "metadata": {},
          "execution_count": 6
        }
      ]
    },
    {
      "cell_type": "code",
      "source": [
        "# creating Dataframe using the Ravdess dataset\n",
        "data_path = ravdess_df\n",
        "data_path.to_csv(\"data_path.csv\",index=False)\n",
        "data_path.head()"
      ],
      "metadata": {
        "colab": {
          "base_uri": "https://localhost:8080/",
          "height": 206
        },
        "id": "PD1GElJtucDE",
        "outputId": "1653ab00-835c-4912-f66d-a6c244449ad0"
      },
      "execution_count": null,
      "outputs": [
        {
          "output_type": "execute_result",
          "data": {
            "text/plain": [
              "   Emotions                                               Path\n",
              "0     angry  /content/dataset/Actor_02/03-01-05-01-02-02-02...\n",
              "1       sad  /content/dataset/Actor_02/03-01-04-01-01-02-02...\n",
              "2       sad  /content/dataset/Actor_02/03-01-04-01-01-01-02...\n",
              "3      calm  /content/dataset/Actor_02/03-01-02-01-02-01-02...\n",
              "4  surprise  /content/dataset/Actor_02/03-01-08-02-01-01-02..."
            ],
            "text/html": [
              "\n",
              "  <div id=\"df-309c17fe-f406-43fb-96f0-990c584299e0\">\n",
              "    <div class=\"colab-df-container\">\n",
              "      <div>\n",
              "<style scoped>\n",
              "    .dataframe tbody tr th:only-of-type {\n",
              "        vertical-align: middle;\n",
              "    }\n",
              "\n",
              "    .dataframe tbody tr th {\n",
              "        vertical-align: top;\n",
              "    }\n",
              "\n",
              "    .dataframe thead th {\n",
              "        text-align: right;\n",
              "    }\n",
              "</style>\n",
              "<table border=\"1\" class=\"dataframe\">\n",
              "  <thead>\n",
              "    <tr style=\"text-align: right;\">\n",
              "      <th></th>\n",
              "      <th>Emotions</th>\n",
              "      <th>Path</th>\n",
              "    </tr>\n",
              "  </thead>\n",
              "  <tbody>\n",
              "    <tr>\n",
              "      <th>0</th>\n",
              "      <td>angry</td>\n",
              "      <td>/content/dataset/Actor_02/03-01-05-01-02-02-02...</td>\n",
              "    </tr>\n",
              "    <tr>\n",
              "      <th>1</th>\n",
              "      <td>sad</td>\n",
              "      <td>/content/dataset/Actor_02/03-01-04-01-01-02-02...</td>\n",
              "    </tr>\n",
              "    <tr>\n",
              "      <th>2</th>\n",
              "      <td>sad</td>\n",
              "      <td>/content/dataset/Actor_02/03-01-04-01-01-01-02...</td>\n",
              "    </tr>\n",
              "    <tr>\n",
              "      <th>3</th>\n",
              "      <td>calm</td>\n",
              "      <td>/content/dataset/Actor_02/03-01-02-01-02-01-02...</td>\n",
              "    </tr>\n",
              "    <tr>\n",
              "      <th>4</th>\n",
              "      <td>surprise</td>\n",
              "      <td>/content/dataset/Actor_02/03-01-08-02-01-01-02...</td>\n",
              "    </tr>\n",
              "  </tbody>\n",
              "</table>\n",
              "</div>\n",
              "      <button class=\"colab-df-convert\" onclick=\"convertToInteractive('df-309c17fe-f406-43fb-96f0-990c584299e0')\"\n",
              "              title=\"Convert this dataframe to an interactive table.\"\n",
              "              style=\"display:none;\">\n",
              "        \n",
              "  <svg xmlns=\"http://www.w3.org/2000/svg\" height=\"24px\"viewBox=\"0 0 24 24\"\n",
              "       width=\"24px\">\n",
              "    <path d=\"M0 0h24v24H0V0z\" fill=\"none\"/>\n",
              "    <path d=\"M18.56 5.44l.94 2.06.94-2.06 2.06-.94-2.06-.94-.94-2.06-.94 2.06-2.06.94zm-11 1L8.5 8.5l.94-2.06 2.06-.94-2.06-.94L8.5 2.5l-.94 2.06-2.06.94zm10 10l.94 2.06.94-2.06 2.06-.94-2.06-.94-.94-2.06-.94 2.06-2.06.94z\"/><path d=\"M17.41 7.96l-1.37-1.37c-.4-.4-.92-.59-1.43-.59-.52 0-1.04.2-1.43.59L10.3 9.45l-7.72 7.72c-.78.78-.78 2.05 0 2.83L4 21.41c.39.39.9.59 1.41.59.51 0 1.02-.2 1.41-.59l7.78-7.78 2.81-2.81c.8-.78.8-2.07 0-2.86zM5.41 20L4 18.59l7.72-7.72 1.47 1.35L5.41 20z\"/>\n",
              "  </svg>\n",
              "      </button>\n",
              "      \n",
              "  <style>\n",
              "    .colab-df-container {\n",
              "      display:flex;\n",
              "      flex-wrap:wrap;\n",
              "      gap: 12px;\n",
              "    }\n",
              "\n",
              "    .colab-df-convert {\n",
              "      background-color: #E8F0FE;\n",
              "      border: none;\n",
              "      border-radius: 50%;\n",
              "      cursor: pointer;\n",
              "      display: none;\n",
              "      fill: #1967D2;\n",
              "      height: 32px;\n",
              "      padding: 0 0 0 0;\n",
              "      width: 32px;\n",
              "    }\n",
              "\n",
              "    .colab-df-convert:hover {\n",
              "      background-color: #E2EBFA;\n",
              "      box-shadow: 0px 1px 2px rgba(60, 64, 67, 0.3), 0px 1px 3px 1px rgba(60, 64, 67, 0.15);\n",
              "      fill: #174EA6;\n",
              "    }\n",
              "\n",
              "    [theme=dark] .colab-df-convert {\n",
              "      background-color: #3B4455;\n",
              "      fill: #D2E3FC;\n",
              "    }\n",
              "\n",
              "    [theme=dark] .colab-df-convert:hover {\n",
              "      background-color: #434B5C;\n",
              "      box-shadow: 0px 1px 3px 1px rgba(0, 0, 0, 0.15);\n",
              "      filter: drop-shadow(0px 1px 2px rgba(0, 0, 0, 0.3));\n",
              "      fill: #FFFFFF;\n",
              "    }\n",
              "  </style>\n",
              "\n",
              "      <script>\n",
              "        const buttonEl =\n",
              "          document.querySelector('#df-309c17fe-f406-43fb-96f0-990c584299e0 button.colab-df-convert');\n",
              "        buttonEl.style.display =\n",
              "          google.colab.kernel.accessAllowed ? 'block' : 'none';\n",
              "\n",
              "        async function convertToInteractive(key) {\n",
              "          const element = document.querySelector('#df-309c17fe-f406-43fb-96f0-990c584299e0');\n",
              "          const dataTable =\n",
              "            await google.colab.kernel.invokeFunction('convertToInteractive',\n",
              "                                                     [key], {});\n",
              "          if (!dataTable) return;\n",
              "\n",
              "          const docLinkHtml = 'Like what you see? Visit the ' +\n",
              "            '<a target=\"_blank\" href=https://colab.research.google.com/notebooks/data_table.ipynb>data table notebook</a>'\n",
              "            + ' to learn more about interactive tables.';\n",
              "          element.innerHTML = '';\n",
              "          dataTable['output_type'] = 'display_data';\n",
              "          await google.colab.output.renderOutput(dataTable, element);\n",
              "          const docLink = document.createElement('div');\n",
              "          docLink.innerHTML = docLinkHtml;\n",
              "          element.appendChild(docLink);\n",
              "        }\n",
              "      </script>\n",
              "    </div>\n",
              "  </div>\n",
              "  "
            ]
          },
          "metadata": {},
          "execution_count": 7
        }
      ]
    },
    {
      "cell_type": "code",
      "source": [
        "import matplotlib.pyplot as plt\n",
        "\n",
        "# Get counts of each emotion\n",
        "emotion_counts = data_path['Emotions'].value_counts()\n",
        "\n",
        "colors = ['b', 'g', 'r', 'c', 'm', 'y', 'k']\n",
        "\n",
        "plt.figure(figsize=(10,6))\n",
        "plt.bar(emotion_counts.index, emotion_counts.values, color=colors[:len(emotion_counts)], alpha=0.7)\n",
        "plt.title('', size=16)\n",
        "plt.xlabel('Emotions Distribution', size=12)\n",
        "plt.ylabel('Count', size=12)\n",
        "plt.grid(axis='y')\n",
        "plt.show()"
      ],
      "metadata": {
        "id": "7JmGg-KEugNo"
      },
      "execution_count": null,
      "outputs": []
    },
    {
      "cell_type": "code",
      "source": [
        "def noise(data):\n",
        "    noise_amp = 0.04*np.random.uniform()*np.amax(data)\n",
        "    data = data + noise_amp*np.random.normal(size=data.shape[0])\n",
        "    return data\n",
        "\n",
        "def stretch(data, rate=0.8):\n",
        "    return librosa.effects.time_stretch(data, rate=rate)\n",
        "\n",
        "def shift(data):\n",
        "    shift_range = int(np.random.uniform(low=-5, high = 5)*1000)\n",
        "    return np.roll(data, shift_range)\n",
        "\n",
        "def pitch(data, sampling_rate, pitch_factor=0.7):\n",
        "    return librosa.effects.pitch_shift(data, sr=sampling_rate, n_steps=pitch_factor)\n",
        "\n",
        "path = np.array(data_path.Path)[1]\n",
        "audio_sample, sample_rate = librosa.load(path)"
      ],
      "metadata": {
        "id": "UOdHcb3NwP4_"
      },
      "execution_count": null,
      "outputs": []
    },
    {
      "cell_type": "code",
      "source": [
        "plt.figure(figsize=(14, 5))\n",
        "librosa.display.waveshow(data, sr=sample_rate)\n",
        "plt.title('Original Audio File')\n",
        "plt.show()\n",
        "Audio(path)"
      ],
      "metadata": {
        "id": "vv4ECbHduzHK"
      },
      "execution_count": null,
      "outputs": []
    },
    {
      "cell_type": "code",
      "source": [
        "x = noise(audio_sample)\n",
        "plt.figure(figsize=(14,4))\n",
        "librosa.display.waveshow(y=x, sr=sample_rate)\n",
        "plt.title('White Noise Audio File')\n",
        "Audio(x, rate=sample_rate)"
      ],
      "metadata": {
        "id": "WBKPlsJPvJ-z"
      },
      "execution_count": null,
      "outputs": []
    },
    {
      "cell_type": "code",
      "source": [
        "x = stretch(audio_sample)\n",
        "plt.figure(figsize=(14,4))\n",
        "librosa.display.waveshow(y=x, sr=sample_rate)\n",
        "plt.title('Stretched Audio File')\n",
        "Audio(x, rate=sample_rate)"
      ],
      "metadata": {
        "id": "JXOeDSuhvpHw"
      },
      "execution_count": null,
      "outputs": []
    },
    {
      "cell_type": "code",
      "source": [
        "x = shift(audio_sample)\n",
        "plt.figure(figsize=(14,4))\n",
        "librosa.display.waveshow(y=x, sr=sample_rate)\n",
        "plt.title('Shifted Audio File')\n",
        "Audio(x, rate=sample_rate)"
      ],
      "metadata": {
        "id": "KU4DUX0Ywbro"
      },
      "execution_count": null,
      "outputs": []
    },
    {
      "cell_type": "code",
      "source": [
        "x = pitch(audio_sample, sample_rate)\n",
        "plt.figure(figsize=(14,4))\n",
        "librosa.display.waveshow(y=x, sr=sample_rate)\n",
        "plt.title('Pitched Audio File')\n",
        "Audio(x, rate=sample_rate)"
      ],
      "metadata": {
        "id": "eokiQiTCwpZ3"
      },
      "execution_count": null,
      "outputs": []
    },
    {
      "cell_type": "code",
      "source": [
        "def extract_features(data, sample_rate):\n",
        "    features = []\n",
        "\n",
        "    stft = np.abs(librosa.stft(data))\n",
        "    chroma_stft = np.mean(librosa.feature.chroma_stft(S=stft, sr=sample_rate).T, axis=0)\n",
        "    features.append(chroma_stft)\n",
        "\n",
        "    rms = np.mean(librosa.feature.rms(y=data).T, axis=0)\n",
        "    features.append(rms)\n",
        "\n",
        "    mel = np.mean(librosa.feature.melspectrogram(y=data, sr=sample_rate).T, axis=0)\n",
        "    features.append(mel)\n",
        "\n",
        "    mfcc = np.mean(librosa.feature.mfcc(y=data, sr=sample_rate).T, axis=0)\n",
        "    features.append(mfcc)\n",
        "\n",
        "    zcr = np.mean(librosa.feature.zero_crossing_rate(y=data).T, axis=0)\n",
        "    features.append(zcr)\n",
        "\n",
        "    return np.hstack(features)"
      ],
      "metadata": {
        "id": "yx458AF4x_v1"
      },
      "execution_count": null,
      "outputs": []
    },
    {
      "cell_type": "code",
      "source": [
        "def get_features(path):\n",
        "    data, sample_rate = librosa.load(path, duration=2.5, offset=0.6)\n",
        "\n",
        "    res1 = extract_features(data, sample_rate)\n",
        "    result = np.array(res1)\n",
        "\n",
        "    noise_data = noise(data)\n",
        "    res2 = extract_features(noise_data, sample_rate)\n",
        "    result = np.vstack((result, res2))\n",
        "\n",
        "    augmented_data = pitch(stretch(data), sample_rate)\n",
        "    res3 = extract_features(augmented_data, sample_rate)\n",
        "    result = np.vstack((result, res3))\n",
        "\n",
        "    return result"
      ],
      "metadata": {
        "id": "I0kYaWKryGDy"
      },
      "execution_count": null,
      "outputs": []
    },
    {
      "cell_type": "code",
      "source": [
        "X, Y = [], []\n",
        "for path, emotion in zip(data_path.Path, data_path.Emotions):\n",
        "    feature = get_features(path)\n",
        "    for ele in feature:\n",
        "        X.append(ele)\n",
        "        Y.append(emotion)"
      ],
      "metadata": {
        "id": "HutHaVPVySX1"
      },
      "execution_count": null,
      "outputs": []
    },
    {
      "cell_type": "code",
      "source": [
        "len(X), len(Y), data_path.Path.shape"
      ],
      "metadata": {
        "colab": {
          "base_uri": "https://localhost:8080/"
        },
        "id": "XZLGCKbc0ZfQ",
        "outputId": "dc9622b7-e434-4fda-9ca3-617854331136"
      },
      "execution_count": null,
      "outputs": [
        {
          "output_type": "execute_result",
          "data": {
            "text/plain": [
              "(4320, 4320, (1440,))"
            ]
          },
          "metadata": {},
          "execution_count": 17
        }
      ]
    },
    {
      "cell_type": "code",
      "source": [
        "Features = pd.DataFrame(X)\n",
        "Features['labels'] = Y\n",
        "Features.to_csv('/content/features.csv', index=False)\n",
        "Features.head()"
      ],
      "metadata": {
        "colab": {
          "base_uri": "https://localhost:8080/",
          "height": 300
        },
        "id": "hCrtyl-s0kfk",
        "outputId": "0f93eb74-e276-4fd6-e5af-e248e7adc440"
      },
      "execution_count": null,
      "outputs": [
        {
          "output_type": "execute_result",
          "data": {
            "text/plain": [
              "          0         1         2         3         4         5         6  \\\n",
              "0  0.664279  0.593576  0.555406  0.548036  0.542235  0.602386  0.686092   \n",
              "1  0.733214  0.716363  0.706174  0.678210  0.688533  0.668748  0.695429   \n",
              "2  0.635457  0.642084  0.568259  0.549310  0.532585  0.502982  0.566992   \n",
              "3  0.484732  0.403829  0.449593  0.510690  0.473447  0.472625  0.470697   \n",
              "4  0.620235  0.579473  0.573388  0.656299  0.653030  0.625835  0.572575   \n",
              "\n",
              "          7         8         9  ...        153       154        155  \\\n",
              "0  0.613681  0.573192  0.581038  ... -12.950767  2.208733  -8.964414   \n",
              "1  0.634463  0.636552  0.679745  ...  -4.799719 -0.632521  -2.621232   \n",
              "2  0.715170  0.646096  0.550566  ... -11.089360  3.643390 -11.127197   \n",
              "3  0.535387  0.645654  0.623645  ...  -7.787284  0.990069  -8.538687   \n",
              "4  0.588700  0.657223  0.709917  ...  -3.338059 -2.502190  -5.168828   \n",
              "\n",
              "        156       157        158       159       160       161  labels  \n",
              "0 -5.237410 -4.900717  -9.421363 -9.965914 -3.001678  0.222218   angry  \n",
              "1 -3.988329 -2.691731  -5.349362 -6.623987 -2.801123  0.296861   angry  \n",
              "2 -4.428462 -8.280272 -10.085418 -8.198171  0.599946  0.192115   angry  \n",
              "3 -4.951330 -6.842031  -3.471666 -7.752641 -3.582913  0.180614     sad  \n",
              "4 -4.964290 -5.051102  -4.221855 -4.512886 -3.307372  0.253734     sad  \n",
              "\n",
              "[5 rows x 163 columns]"
            ],
            "text/html": [
              "\n",
              "  <div id=\"df-dcb292ea-a36b-4161-bcb4-5602897b068c\">\n",
              "    <div class=\"colab-df-container\">\n",
              "      <div>\n",
              "<style scoped>\n",
              "    .dataframe tbody tr th:only-of-type {\n",
              "        vertical-align: middle;\n",
              "    }\n",
              "\n",
              "    .dataframe tbody tr th {\n",
              "        vertical-align: top;\n",
              "    }\n",
              "\n",
              "    .dataframe thead th {\n",
              "        text-align: right;\n",
              "    }\n",
              "</style>\n",
              "<table border=\"1\" class=\"dataframe\">\n",
              "  <thead>\n",
              "    <tr style=\"text-align: right;\">\n",
              "      <th></th>\n",
              "      <th>0</th>\n",
              "      <th>1</th>\n",
              "      <th>2</th>\n",
              "      <th>3</th>\n",
              "      <th>4</th>\n",
              "      <th>5</th>\n",
              "      <th>6</th>\n",
              "      <th>7</th>\n",
              "      <th>8</th>\n",
              "      <th>9</th>\n",
              "      <th>...</th>\n",
              "      <th>153</th>\n",
              "      <th>154</th>\n",
              "      <th>155</th>\n",
              "      <th>156</th>\n",
              "      <th>157</th>\n",
              "      <th>158</th>\n",
              "      <th>159</th>\n",
              "      <th>160</th>\n",
              "      <th>161</th>\n",
              "      <th>labels</th>\n",
              "    </tr>\n",
              "  </thead>\n",
              "  <tbody>\n",
              "    <tr>\n",
              "      <th>0</th>\n",
              "      <td>0.664279</td>\n",
              "      <td>0.593576</td>\n",
              "      <td>0.555406</td>\n",
              "      <td>0.548036</td>\n",
              "      <td>0.542235</td>\n",
              "      <td>0.602386</td>\n",
              "      <td>0.686092</td>\n",
              "      <td>0.613681</td>\n",
              "      <td>0.573192</td>\n",
              "      <td>0.581038</td>\n",
              "      <td>...</td>\n",
              "      <td>-12.950767</td>\n",
              "      <td>2.208733</td>\n",
              "      <td>-8.964414</td>\n",
              "      <td>-5.237410</td>\n",
              "      <td>-4.900717</td>\n",
              "      <td>-9.421363</td>\n",
              "      <td>-9.965914</td>\n",
              "      <td>-3.001678</td>\n",
              "      <td>0.222218</td>\n",
              "      <td>angry</td>\n",
              "    </tr>\n",
              "    <tr>\n",
              "      <th>1</th>\n",
              "      <td>0.733214</td>\n",
              "      <td>0.716363</td>\n",
              "      <td>0.706174</td>\n",
              "      <td>0.678210</td>\n",
              "      <td>0.688533</td>\n",
              "      <td>0.668748</td>\n",
              "      <td>0.695429</td>\n",
              "      <td>0.634463</td>\n",
              "      <td>0.636552</td>\n",
              "      <td>0.679745</td>\n",
              "      <td>...</td>\n",
              "      <td>-4.799719</td>\n",
              "      <td>-0.632521</td>\n",
              "      <td>-2.621232</td>\n",
              "      <td>-3.988329</td>\n",
              "      <td>-2.691731</td>\n",
              "      <td>-5.349362</td>\n",
              "      <td>-6.623987</td>\n",
              "      <td>-2.801123</td>\n",
              "      <td>0.296861</td>\n",
              "      <td>angry</td>\n",
              "    </tr>\n",
              "    <tr>\n",
              "      <th>2</th>\n",
              "      <td>0.635457</td>\n",
              "      <td>0.642084</td>\n",
              "      <td>0.568259</td>\n",
              "      <td>0.549310</td>\n",
              "      <td>0.532585</td>\n",
              "      <td>0.502982</td>\n",
              "      <td>0.566992</td>\n",
              "      <td>0.715170</td>\n",
              "      <td>0.646096</td>\n",
              "      <td>0.550566</td>\n",
              "      <td>...</td>\n",
              "      <td>-11.089360</td>\n",
              "      <td>3.643390</td>\n",
              "      <td>-11.127197</td>\n",
              "      <td>-4.428462</td>\n",
              "      <td>-8.280272</td>\n",
              "      <td>-10.085418</td>\n",
              "      <td>-8.198171</td>\n",
              "      <td>0.599946</td>\n",
              "      <td>0.192115</td>\n",
              "      <td>angry</td>\n",
              "    </tr>\n",
              "    <tr>\n",
              "      <th>3</th>\n",
              "      <td>0.484732</td>\n",
              "      <td>0.403829</td>\n",
              "      <td>0.449593</td>\n",
              "      <td>0.510690</td>\n",
              "      <td>0.473447</td>\n",
              "      <td>0.472625</td>\n",
              "      <td>0.470697</td>\n",
              "      <td>0.535387</td>\n",
              "      <td>0.645654</td>\n",
              "      <td>0.623645</td>\n",
              "      <td>...</td>\n",
              "      <td>-7.787284</td>\n",
              "      <td>0.990069</td>\n",
              "      <td>-8.538687</td>\n",
              "      <td>-4.951330</td>\n",
              "      <td>-6.842031</td>\n",
              "      <td>-3.471666</td>\n",
              "      <td>-7.752641</td>\n",
              "      <td>-3.582913</td>\n",
              "      <td>0.180614</td>\n",
              "      <td>sad</td>\n",
              "    </tr>\n",
              "    <tr>\n",
              "      <th>4</th>\n",
              "      <td>0.620235</td>\n",
              "      <td>0.579473</td>\n",
              "      <td>0.573388</td>\n",
              "      <td>0.656299</td>\n",
              "      <td>0.653030</td>\n",
              "      <td>0.625835</td>\n",
              "      <td>0.572575</td>\n",
              "      <td>0.588700</td>\n",
              "      <td>0.657223</td>\n",
              "      <td>0.709917</td>\n",
              "      <td>...</td>\n",
              "      <td>-3.338059</td>\n",
              "      <td>-2.502190</td>\n",
              "      <td>-5.168828</td>\n",
              "      <td>-4.964290</td>\n",
              "      <td>-5.051102</td>\n",
              "      <td>-4.221855</td>\n",
              "      <td>-4.512886</td>\n",
              "      <td>-3.307372</td>\n",
              "      <td>0.253734</td>\n",
              "      <td>sad</td>\n",
              "    </tr>\n",
              "  </tbody>\n",
              "</table>\n",
              "<p>5 rows × 163 columns</p>\n",
              "</div>\n",
              "      <button class=\"colab-df-convert\" onclick=\"convertToInteractive('df-dcb292ea-a36b-4161-bcb4-5602897b068c')\"\n",
              "              title=\"Convert this dataframe to an interactive table.\"\n",
              "              style=\"display:none;\">\n",
              "        \n",
              "  <svg xmlns=\"http://www.w3.org/2000/svg\" height=\"24px\"viewBox=\"0 0 24 24\"\n",
              "       width=\"24px\">\n",
              "    <path d=\"M0 0h24v24H0V0z\" fill=\"none\"/>\n",
              "    <path d=\"M18.56 5.44l.94 2.06.94-2.06 2.06-.94-2.06-.94-.94-2.06-.94 2.06-2.06.94zm-11 1L8.5 8.5l.94-2.06 2.06-.94-2.06-.94L8.5 2.5l-.94 2.06-2.06.94zm10 10l.94 2.06.94-2.06 2.06-.94-2.06-.94-.94-2.06-.94 2.06-2.06.94z\"/><path d=\"M17.41 7.96l-1.37-1.37c-.4-.4-.92-.59-1.43-.59-.52 0-1.04.2-1.43.59L10.3 9.45l-7.72 7.72c-.78.78-.78 2.05 0 2.83L4 21.41c.39.39.9.59 1.41.59.51 0 1.02-.2 1.41-.59l7.78-7.78 2.81-2.81c.8-.78.8-2.07 0-2.86zM5.41 20L4 18.59l7.72-7.72 1.47 1.35L5.41 20z\"/>\n",
              "  </svg>\n",
              "      </button>\n",
              "      \n",
              "  <style>\n",
              "    .colab-df-container {\n",
              "      display:flex;\n",
              "      flex-wrap:wrap;\n",
              "      gap: 12px;\n",
              "    }\n",
              "\n",
              "    .colab-df-convert {\n",
              "      background-color: #E8F0FE;\n",
              "      border: none;\n",
              "      border-radius: 50%;\n",
              "      cursor: pointer;\n",
              "      display: none;\n",
              "      fill: #1967D2;\n",
              "      height: 32px;\n",
              "      padding: 0 0 0 0;\n",
              "      width: 32px;\n",
              "    }\n",
              "\n",
              "    .colab-df-convert:hover {\n",
              "      background-color: #E2EBFA;\n",
              "      box-shadow: 0px 1px 2px rgba(60, 64, 67, 0.3), 0px 1px 3px 1px rgba(60, 64, 67, 0.15);\n",
              "      fill: #174EA6;\n",
              "    }\n",
              "\n",
              "    [theme=dark] .colab-df-convert {\n",
              "      background-color: #3B4455;\n",
              "      fill: #D2E3FC;\n",
              "    }\n",
              "\n",
              "    [theme=dark] .colab-df-convert:hover {\n",
              "      background-color: #434B5C;\n",
              "      box-shadow: 0px 1px 3px 1px rgba(0, 0, 0, 0.15);\n",
              "      filter: drop-shadow(0px 1px 2px rgba(0, 0, 0, 0.3));\n",
              "      fill: #FFFFFF;\n",
              "    }\n",
              "  </style>\n",
              "\n",
              "      <script>\n",
              "        const buttonEl =\n",
              "          document.querySelector('#df-dcb292ea-a36b-4161-bcb4-5602897b068c button.colab-df-convert');\n",
              "        buttonEl.style.display =\n",
              "          google.colab.kernel.accessAllowed ? 'block' : 'none';\n",
              "\n",
              "        async function convertToInteractive(key) {\n",
              "          const element = document.querySelector('#df-dcb292ea-a36b-4161-bcb4-5602897b068c');\n",
              "          const dataTable =\n",
              "            await google.colab.kernel.invokeFunction('convertToInteractive',\n",
              "                                                     [key], {});\n",
              "          if (!dataTable) return;\n",
              "\n",
              "          const docLinkHtml = 'Like what you see? Visit the ' +\n",
              "            '<a target=\"_blank\" href=https://colab.research.google.com/notebooks/data_table.ipynb>data table notebook</a>'\n",
              "            + ' to learn more about interactive tables.';\n",
              "          element.innerHTML = '';\n",
              "          dataTable['output_type'] = 'display_data';\n",
              "          await google.colab.output.renderOutput(dataTable, element);\n",
              "          const docLink = document.createElement('div');\n",
              "          docLink.innerHTML = docLinkHtml;\n",
              "          element.appendChild(docLink);\n",
              "        }\n",
              "      </script>\n",
              "    </div>\n",
              "  </div>\n",
              "  "
            ]
          },
          "metadata": {},
          "execution_count": 18
        }
      ]
    },
    {
      "cell_type": "code",
      "source": [
        "X = Features.iloc[: ,:-1].values\n",
        "Y = Features['labels'].values"
      ],
      "metadata": {
        "id": "63hRt7943DFd"
      },
      "execution_count": null,
      "outputs": []
    },
    {
      "cell_type": "code",
      "source": [
        "encoder = OneHotEncoder()\n",
        "Y = encoder.fit_transform(np.array(Y).reshape(-1,1)).toarray()"
      ],
      "metadata": {
        "id": "FMSCUO2x3G7r"
      },
      "execution_count": null,
      "outputs": []
    },
    {
      "cell_type": "code",
      "source": [
        "x_train, x_test, y_train, y_test = train_test_split(X, Y, random_state=0, shuffle=True)\n",
        "x_train.shape, y_train.shape, x_test.shape, y_test.shape"
      ],
      "metadata": {
        "colab": {
          "base_uri": "https://localhost:8080/"
        },
        "id": "Z3L4VRE63L5Z",
        "outputId": "525e8a45-bec6-403d-d360-c94c14d9ade7"
      },
      "execution_count": null,
      "outputs": [
        {
          "output_type": "execute_result",
          "data": {
            "text/plain": [
              "((3240, 162), (3240, 8), (1080, 162), (1080, 8))"
            ]
          },
          "metadata": {},
          "execution_count": 56
        }
      ]
    },
    {
      "cell_type": "code",
      "source": [
        "scaler = StandardScaler()\n",
        "x_train = scaler.fit_transform(x_train)\n",
        "x_test = scaler.transform(x_test)\n",
        "x_train.shape, y_train.shape, x_test.shape, y_test.shape"
      ],
      "metadata": {
        "colab": {
          "base_uri": "https://localhost:8080/"
        },
        "id": "BXg2hCEU3R5x",
        "outputId": "4213d04b-54f8-4dda-c5d8-edf0265271d9"
      },
      "execution_count": null,
      "outputs": [
        {
          "output_type": "execute_result",
          "data": {
            "text/plain": [
              "((3240, 162), (3240, 8), (1080, 162), (1080, 8))"
            ]
          },
          "metadata": {},
          "execution_count": 57
        }
      ]
    },
    {
      "cell_type": "code",
      "source": [
        "x_train = np.expand_dims(x_train, axis=1)\n",
        "x_test = np.expand_dims(x_test, axis=1)\n",
        "x_train.shape, y_train.shape, x_test.shape, y_test.shape"
      ],
      "metadata": {
        "colab": {
          "base_uri": "https://localhost:8080/"
        },
        "id": "AXsTMHzqapXo",
        "outputId": "92cc5990-72b8-4565-fa1d-3652cc9f4fd8"
      },
      "execution_count": null,
      "outputs": [
        {
          "output_type": "execute_result",
          "data": {
            "text/plain": [
              "((3240, 1, 162), (3240, 8), (1080, 1, 162), (1080, 8))"
            ]
          },
          "metadata": {},
          "execution_count": 58
        }
      ]
    },
    {
      "cell_type": "code",
      "source": [
        "x_train = np.expand_dims(x_train, axis=2)\n",
        "x_test = np.expand_dims(x_test, axis=2)\n",
        "x_train.shape, y_train.shape, x_test.shape, y_test.shape"
      ],
      "metadata": {
        "colab": {
          "base_uri": "https://localhost:8080/"
        },
        "id": "ChMX0U8A3Xg6",
        "outputId": "f487ae0a-c3a7-4a01-d9d7-31eceabb3a1a"
      },
      "execution_count": null,
      "outputs": [
        {
          "output_type": "execute_result",
          "data": {
            "text/plain": [
              "((3240, 162, 1), (3240, 8), (1080, 162, 1), (1080, 8))"
            ]
          },
          "metadata": {},
          "execution_count": 53
        }
      ]
    },
    {
      "cell_type": "code",
      "source": [
        "from keras.models import Sequential\n",
        "from keras.layers import LSTM, Dense, Dropout\n",
        "from keras.optimizers import Adam\n",
        "\n",
        "num_features = x_train.shape[2]\n",
        "num_classes = 8\n",
        "\n",
        "model = Sequential()\n",
        "\n",
        "model.add(LSTM(128, return_sequences=True, input_shape=(1, num_features)))\n",
        "model.add(Dropout(0.2))\n",
        "\n",
        "model.add(LSTM(64))\n",
        "model.add(Dropout(0.2))\n",
        "\n",
        "model.add(Dense(64, activation='relu'))\n",
        "model.add(Dropout(0.2))\n",
        "\n",
        "model.add(Dense(num_classes, activation='softmax'))\n",
        "\n",
        "adam = Adam(lr=0.001)\n",
        "model.compile(loss='categorical_crossentropy', optimizer=adam, metrics=['accuracy'])\n",
        "\n",
        "model.summary()"
      ],
      "metadata": {
        "id": "wf6iOQ6ka6O0"
      },
      "execution_count": null,
      "outputs": []
    },
    {
      "cell_type": "code",
      "source": [
        "model = Sequential([\n",
        "    Conv1D(256, kernel_size=5, strides=1, padding='same', activation='relu', input_shape=(x_train.shape[1], 1)),\n",
        "    MaxPooling1D(pool_size=5, strides=2, padding='same'),\n",
        "\n",
        "    Conv1D(256, kernel_size=5, strides=1, padding='same', activation='relu'),\n",
        "    MaxPooling1D(pool_size=5, strides=2, padding='same'),\n",
        "\n",
        "    Conv1D(128, kernel_size=5, strides=1, padding='same', activation='relu'),\n",
        "    MaxPooling1D(pool_size=5, strides=2, padding='same'),\n",
        "    Dropout(0.2),\n",
        "\n",
        "    Conv1D(64, kernel_size=5, strides=1, padding='same', activation='relu'),\n",
        "    MaxPooling1D(pool_size=5, strides=2, padding='same'),\n",
        "\n",
        "    Flatten(),\n",
        "    Dense(units=32, activation='relu'),\n",
        "    Dropout(0.3),\n",
        "\n",
        "    Dense(units=8, activation='softmax')\n",
        "])\n",
        "\n",
        "model.compile(optimizer='adam', loss='categorical_crossentropy', metrics=['accuracy'])\n",
        "\n",
        "model.summary()"
      ],
      "metadata": {
        "id": "zaD0oQjD3hDt"
      },
      "execution_count": null,
      "outputs": []
    },
    {
      "cell_type": "code",
      "source": [
        "# rlrp = ReduceLROnPlateau(monitor='loss', factor=0.4, verbose=0, patience=2, min_lr=0.0000001)\n",
        "history=model.fit(x_train, y_train, batch_size=64, epochs=150, validation_data=(x_test, y_test))"
      ],
      "metadata": {
        "colab": {
          "base_uri": "https://localhost:8080/"
        },
        "id": "8B9Gvdl23jto",
        "outputId": "4197f90c-b3d3-4b1e-a6e8-f3c7f96d4f3b"
      },
      "execution_count": null,
      "outputs": [
        {
          "output_type": "stream",
          "name": "stdout",
          "text": [
            "Epoch 1/150\n",
            "51/51 [==============================] - 5s 28ms/step - loss: 2.0092 - accuracy: 0.2343 - val_loss: 1.8934 - val_accuracy: 0.2537\n",
            "Epoch 2/150\n",
            "51/51 [==============================] - 1s 13ms/step - loss: 1.7616 - accuracy: 0.3253 - val_loss: 1.6521 - val_accuracy: 0.3694\n",
            "Epoch 3/150\n",
            "51/51 [==============================] - 1s 14ms/step - loss: 1.5665 - accuracy: 0.4164 - val_loss: 1.5033 - val_accuracy: 0.4463\n",
            "Epoch 4/150\n",
            "51/51 [==============================] - 1s 12ms/step - loss: 1.4247 - accuracy: 0.4707 - val_loss: 1.3883 - val_accuracy: 0.4787\n",
            "Epoch 5/150\n",
            "51/51 [==============================] - 1s 12ms/step - loss: 1.3224 - accuracy: 0.5154 - val_loss: 1.3122 - val_accuracy: 0.5176\n",
            "Epoch 6/150\n",
            "51/51 [==============================] - 1s 11ms/step - loss: 1.2441 - accuracy: 0.5414 - val_loss: 1.2662 - val_accuracy: 0.5296\n",
            "Epoch 7/150\n",
            "51/51 [==============================] - 1s 14ms/step - loss: 1.1740 - accuracy: 0.5676 - val_loss: 1.2289 - val_accuracy: 0.5491\n",
            "Epoch 8/150\n",
            "51/51 [==============================] - 1s 19ms/step - loss: 1.1251 - accuracy: 0.5892 - val_loss: 1.1969 - val_accuracy: 0.5528\n",
            "Epoch 9/150\n",
            "51/51 [==============================] - 1s 16ms/step - loss: 1.0687 - accuracy: 0.6127 - val_loss: 1.1901 - val_accuracy: 0.5630\n",
            "Epoch 10/150\n",
            "51/51 [==============================] - 1s 14ms/step - loss: 1.0212 - accuracy: 0.6238 - val_loss: 1.1725 - val_accuracy: 0.5630\n",
            "Epoch 11/150\n",
            "51/51 [==============================] - 1s 14ms/step - loss: 0.9743 - accuracy: 0.6519 - val_loss: 1.1155 - val_accuracy: 0.6019\n",
            "Epoch 12/150\n",
            "51/51 [==============================] - 1s 11ms/step - loss: 0.9189 - accuracy: 0.6614 - val_loss: 1.1034 - val_accuracy: 0.6065\n",
            "Epoch 13/150\n",
            "51/51 [==============================] - 1s 12ms/step - loss: 0.8999 - accuracy: 0.6688 - val_loss: 1.0572 - val_accuracy: 0.6185\n",
            "Epoch 14/150\n",
            "51/51 [==============================] - 1s 13ms/step - loss: 0.8658 - accuracy: 0.6843 - val_loss: 1.0546 - val_accuracy: 0.6269\n",
            "Epoch 15/150\n",
            "51/51 [==============================] - 1s 11ms/step - loss: 0.8415 - accuracy: 0.6849 - val_loss: 1.0644 - val_accuracy: 0.6306\n",
            "Epoch 16/150\n",
            "51/51 [==============================] - 1s 12ms/step - loss: 0.8108 - accuracy: 0.6941 - val_loss: 1.0445 - val_accuracy: 0.6296\n",
            "Epoch 17/150\n",
            "51/51 [==============================] - 1s 11ms/step - loss: 0.7700 - accuracy: 0.7238 - val_loss: 0.9876 - val_accuracy: 0.6546\n",
            "Epoch 18/150\n",
            "51/51 [==============================] - 1s 13ms/step - loss: 0.7486 - accuracy: 0.7262 - val_loss: 0.9988 - val_accuracy: 0.6574\n",
            "Epoch 19/150\n",
            "51/51 [==============================] - 1s 12ms/step - loss: 0.7301 - accuracy: 0.7333 - val_loss: 0.9856 - val_accuracy: 0.6676\n",
            "Epoch 20/150\n",
            "51/51 [==============================] - 1s 11ms/step - loss: 0.7027 - accuracy: 0.7488 - val_loss: 0.9763 - val_accuracy: 0.6611\n",
            "Epoch 21/150\n",
            "51/51 [==============================] - 1s 11ms/step - loss: 0.6797 - accuracy: 0.7448 - val_loss: 0.9659 - val_accuracy: 0.6769\n",
            "Epoch 22/150\n",
            "51/51 [==============================] - 1s 12ms/step - loss: 0.6569 - accuracy: 0.7657 - val_loss: 0.9922 - val_accuracy: 0.6713\n",
            "Epoch 23/150\n",
            "51/51 [==============================] - 1s 13ms/step - loss: 0.6419 - accuracy: 0.7694 - val_loss: 0.9364 - val_accuracy: 0.6889\n",
            "Epoch 24/150\n",
            "51/51 [==============================] - 1s 13ms/step - loss: 0.6370 - accuracy: 0.7642 - val_loss: 0.9324 - val_accuracy: 0.6898\n",
            "Epoch 25/150\n",
            "51/51 [==============================] - 1s 14ms/step - loss: 0.6022 - accuracy: 0.7821 - val_loss: 0.9201 - val_accuracy: 0.6861\n",
            "Epoch 26/150\n",
            "51/51 [==============================] - 1s 19ms/step - loss: 0.5817 - accuracy: 0.7886 - val_loss: 0.9318 - val_accuracy: 0.7028\n",
            "Epoch 27/150\n",
            "51/51 [==============================] - 1s 19ms/step - loss: 0.5798 - accuracy: 0.7914 - val_loss: 0.9079 - val_accuracy: 0.6907\n",
            "Epoch 28/150\n",
            "51/51 [==============================] - 1s 12ms/step - loss: 0.5626 - accuracy: 0.7910 - val_loss: 0.9185 - val_accuracy: 0.7019\n",
            "Epoch 29/150\n",
            "51/51 [==============================] - 1s 12ms/step - loss: 0.5351 - accuracy: 0.8074 - val_loss: 0.8897 - val_accuracy: 0.7130\n",
            "Epoch 30/150\n",
            "51/51 [==============================] - 1s 13ms/step - loss: 0.5439 - accuracy: 0.8019 - val_loss: 0.8999 - val_accuracy: 0.7028\n",
            "Epoch 31/150\n",
            "51/51 [==============================] - 1s 12ms/step - loss: 0.5240 - accuracy: 0.8117 - val_loss: 0.8801 - val_accuracy: 0.7065\n",
            "Epoch 32/150\n",
            "51/51 [==============================] - 1s 12ms/step - loss: 0.4993 - accuracy: 0.8231 - val_loss: 0.9153 - val_accuracy: 0.7139\n",
            "Epoch 33/150\n",
            "51/51 [==============================] - 1s 13ms/step - loss: 0.5155 - accuracy: 0.8123 - val_loss: 0.8996 - val_accuracy: 0.7185\n",
            "Epoch 34/150\n",
            "51/51 [==============================] - 1s 13ms/step - loss: 0.5028 - accuracy: 0.8148 - val_loss: 0.8815 - val_accuracy: 0.7278\n",
            "Epoch 35/150\n",
            "51/51 [==============================] - 1s 11ms/step - loss: 0.4558 - accuracy: 0.8321 - val_loss: 0.8857 - val_accuracy: 0.7259\n",
            "Epoch 36/150\n",
            "51/51 [==============================] - 1s 13ms/step - loss: 0.4869 - accuracy: 0.8238 - val_loss: 0.9258 - val_accuracy: 0.7204\n",
            "Epoch 37/150\n",
            "51/51 [==============================] - 1s 11ms/step - loss: 0.4547 - accuracy: 0.8306 - val_loss: 0.8885 - val_accuracy: 0.7278\n",
            "Epoch 38/150\n",
            "51/51 [==============================] - 1s 11ms/step - loss: 0.4444 - accuracy: 0.8386 - val_loss: 0.8858 - val_accuracy: 0.7269\n",
            "Epoch 39/150\n",
            "51/51 [==============================] - 1s 11ms/step - loss: 0.4391 - accuracy: 0.8386 - val_loss: 0.9073 - val_accuracy: 0.7296\n",
            "Epoch 40/150\n",
            "51/51 [==============================] - 1s 13ms/step - loss: 0.4179 - accuracy: 0.8528 - val_loss: 0.9184 - val_accuracy: 0.7222\n",
            "Epoch 41/150\n",
            "51/51 [==============================] - 1s 12ms/step - loss: 0.4335 - accuracy: 0.8414 - val_loss: 0.8873 - val_accuracy: 0.7361\n",
            "Epoch 42/150\n",
            "51/51 [==============================] - 1s 13ms/step - loss: 0.3999 - accuracy: 0.8627 - val_loss: 0.8852 - val_accuracy: 0.7380\n",
            "Epoch 43/150\n",
            "51/51 [==============================] - 1s 14ms/step - loss: 0.3826 - accuracy: 0.8627 - val_loss: 0.8755 - val_accuracy: 0.7491\n",
            "Epoch 44/150\n",
            "51/51 [==============================] - 1s 18ms/step - loss: 0.3719 - accuracy: 0.8654 - val_loss: 0.8672 - val_accuracy: 0.7454\n",
            "Epoch 45/150\n",
            "51/51 [==============================] - 1s 19ms/step - loss: 0.3702 - accuracy: 0.8583 - val_loss: 0.8908 - val_accuracy: 0.7435\n",
            "Epoch 46/150\n",
            "51/51 [==============================] - 1s 12ms/step - loss: 0.3838 - accuracy: 0.8562 - val_loss: 0.8821 - val_accuracy: 0.7435\n",
            "Epoch 47/150\n",
            "51/51 [==============================] - 1s 12ms/step - loss: 0.3712 - accuracy: 0.8620 - val_loss: 0.8867 - val_accuracy: 0.7435\n",
            "Epoch 48/150\n",
            "51/51 [==============================] - 1s 13ms/step - loss: 0.3470 - accuracy: 0.8765 - val_loss: 0.9293 - val_accuracy: 0.7407\n",
            "Epoch 49/150\n",
            "51/51 [==============================] - 1s 11ms/step - loss: 0.3474 - accuracy: 0.8741 - val_loss: 0.9004 - val_accuracy: 0.7519\n",
            "Epoch 50/150\n",
            "51/51 [==============================] - 1s 12ms/step - loss: 0.3435 - accuracy: 0.8775 - val_loss: 0.8976 - val_accuracy: 0.7454\n",
            "Epoch 51/150\n",
            "51/51 [==============================] - 1s 11ms/step - loss: 0.3528 - accuracy: 0.8691 - val_loss: 0.8872 - val_accuracy: 0.7500\n",
            "Epoch 52/150\n",
            "51/51 [==============================] - 1s 12ms/step - loss: 0.3148 - accuracy: 0.8873 - val_loss: 0.8966 - val_accuracy: 0.7565\n",
            "Epoch 53/150\n",
            "51/51 [==============================] - 1s 11ms/step - loss: 0.3185 - accuracy: 0.8889 - val_loss: 0.9406 - val_accuracy: 0.7574\n",
            "Epoch 54/150\n",
            "51/51 [==============================] - 1s 13ms/step - loss: 0.3250 - accuracy: 0.8731 - val_loss: 0.9727 - val_accuracy: 0.7417\n",
            "Epoch 55/150\n",
            "51/51 [==============================] - 1s 25ms/step - loss: 0.3165 - accuracy: 0.8843 - val_loss: 0.8777 - val_accuracy: 0.7519\n",
            "Epoch 56/150\n",
            "51/51 [==============================] - 1s 12ms/step - loss: 0.3118 - accuracy: 0.8827 - val_loss: 0.8747 - val_accuracy: 0.7491\n",
            "Epoch 57/150\n",
            "51/51 [==============================] - 1s 14ms/step - loss: 0.3004 - accuracy: 0.8852 - val_loss: 0.8626 - val_accuracy: 0.7620\n",
            "Epoch 58/150\n",
            "51/51 [==============================] - 1s 11ms/step - loss: 0.2975 - accuracy: 0.8914 - val_loss: 0.8778 - val_accuracy: 0.7620\n",
            "Epoch 59/150\n",
            "51/51 [==============================] - 1s 14ms/step - loss: 0.2973 - accuracy: 0.8883 - val_loss: 0.8959 - val_accuracy: 0.7731\n",
            "Epoch 60/150\n",
            "51/51 [==============================] - 1s 14ms/step - loss: 0.2910 - accuracy: 0.8904 - val_loss: 0.9248 - val_accuracy: 0.7648\n",
            "Epoch 61/150\n",
            "51/51 [==============================] - 1s 19ms/step - loss: 0.2795 - accuracy: 0.9000 - val_loss: 0.8804 - val_accuracy: 0.7685\n",
            "Epoch 62/150\n",
            "51/51 [==============================] - 1s 19ms/step - loss: 0.2732 - accuracy: 0.8978 - val_loss: 0.9146 - val_accuracy: 0.7546\n",
            "Epoch 63/150\n",
            "51/51 [==============================] - 1s 14ms/step - loss: 0.2633 - accuracy: 0.9015 - val_loss: 0.9233 - val_accuracy: 0.7602\n",
            "Epoch 64/150\n",
            "51/51 [==============================] - 1s 12ms/step - loss: 0.2650 - accuracy: 0.9062 - val_loss: 0.9191 - val_accuracy: 0.7657\n",
            "Epoch 65/150\n",
            "51/51 [==============================] - 1s 12ms/step - loss: 0.2628 - accuracy: 0.9012 - val_loss: 0.9459 - val_accuracy: 0.7435\n",
            "Epoch 66/150\n",
            "51/51 [==============================] - 1s 14ms/step - loss: 0.2540 - accuracy: 0.9102 - val_loss: 0.8753 - val_accuracy: 0.7565\n",
            "Epoch 67/150\n",
            "51/51 [==============================] - 1s 14ms/step - loss: 0.2577 - accuracy: 0.9037 - val_loss: 0.8718 - val_accuracy: 0.7676\n",
            "Epoch 68/150\n",
            "51/51 [==============================] - 1s 12ms/step - loss: 0.2590 - accuracy: 0.9037 - val_loss: 0.8708 - val_accuracy: 0.7657\n",
            "Epoch 69/150\n",
            "51/51 [==============================] - 1s 14ms/step - loss: 0.2436 - accuracy: 0.9145 - val_loss: 0.8762 - val_accuracy: 0.7676\n",
            "Epoch 70/150\n",
            "51/51 [==============================] - 1s 12ms/step - loss: 0.2534 - accuracy: 0.9071 - val_loss: 0.9006 - val_accuracy: 0.7769\n",
            "Epoch 71/150\n",
            "51/51 [==============================] - 1s 12ms/step - loss: 0.2326 - accuracy: 0.9123 - val_loss: 0.9065 - val_accuracy: 0.7778\n",
            "Epoch 72/150\n",
            "51/51 [==============================] - 1s 14ms/step - loss: 0.2475 - accuracy: 0.9093 - val_loss: 0.9325 - val_accuracy: 0.7704\n",
            "Epoch 73/150\n",
            "51/51 [==============================] - 1s 12ms/step - loss: 0.2250 - accuracy: 0.9238 - val_loss: 0.9244 - val_accuracy: 0.7722\n",
            "Epoch 74/150\n",
            "51/51 [==============================] - 1s 14ms/step - loss: 0.2235 - accuracy: 0.9173 - val_loss: 0.9547 - val_accuracy: 0.7648\n",
            "Epoch 75/150\n",
            "51/51 [==============================] - 1s 12ms/step - loss: 0.2321 - accuracy: 0.9160 - val_loss: 0.9134 - val_accuracy: 0.7713\n",
            "Epoch 76/150\n",
            "51/51 [==============================] - 1s 13ms/step - loss: 0.2298 - accuracy: 0.9179 - val_loss: 0.9225 - val_accuracy: 0.7685\n",
            "Epoch 77/150\n",
            "51/51 [==============================] - 1s 14ms/step - loss: 0.2109 - accuracy: 0.9253 - val_loss: 0.9318 - val_accuracy: 0.7759\n",
            "Epoch 78/150\n",
            "51/51 [==============================] - 1s 19ms/step - loss: 0.2187 - accuracy: 0.9207 - val_loss: 0.9342 - val_accuracy: 0.7778\n",
            "Epoch 79/150\n",
            "51/51 [==============================] - 1s 18ms/step - loss: 0.2003 - accuracy: 0.9253 - val_loss: 0.8920 - val_accuracy: 0.7843\n",
            "Epoch 80/150\n",
            "51/51 [==============================] - 1s 15ms/step - loss: 0.1904 - accuracy: 0.9343 - val_loss: 0.8882 - val_accuracy: 0.7806\n",
            "Epoch 81/150\n",
            "51/51 [==============================] - 1s 12ms/step - loss: 0.2073 - accuracy: 0.9290 - val_loss: 0.8975 - val_accuracy: 0.7722\n",
            "Epoch 82/150\n",
            "51/51 [==============================] - 1s 12ms/step - loss: 0.2033 - accuracy: 0.9275 - val_loss: 0.9318 - val_accuracy: 0.7676\n",
            "Epoch 83/150\n",
            "51/51 [==============================] - 1s 12ms/step - loss: 0.2195 - accuracy: 0.9194 - val_loss: 0.8648 - val_accuracy: 0.7815\n",
            "Epoch 84/150\n",
            "51/51 [==============================] - 1s 13ms/step - loss: 0.1981 - accuracy: 0.9281 - val_loss: 0.8920 - val_accuracy: 0.7815\n",
            "Epoch 85/150\n",
            "51/51 [==============================] - 1s 13ms/step - loss: 0.1786 - accuracy: 0.9346 - val_loss: 0.9261 - val_accuracy: 0.7759\n",
            "Epoch 86/150\n",
            "51/51 [==============================] - 1s 12ms/step - loss: 0.1859 - accuracy: 0.9340 - val_loss: 0.9430 - val_accuracy: 0.7769\n",
            "Epoch 87/150\n",
            "51/51 [==============================] - 1s 13ms/step - loss: 0.2000 - accuracy: 0.9296 - val_loss: 0.9051 - val_accuracy: 0.7778\n",
            "Epoch 88/150\n",
            "51/51 [==============================] - 1s 11ms/step - loss: 0.1899 - accuracy: 0.9324 - val_loss: 0.8937 - val_accuracy: 0.7815\n",
            "Epoch 89/150\n",
            "51/51 [==============================] - 1s 13ms/step - loss: 0.2050 - accuracy: 0.9327 - val_loss: 0.8998 - val_accuracy: 0.7806\n",
            "Epoch 90/150\n",
            "51/51 [==============================] - 1s 13ms/step - loss: 0.1673 - accuracy: 0.9404 - val_loss: 0.9564 - val_accuracy: 0.7667\n",
            "Epoch 91/150\n",
            "51/51 [==============================] - 1s 12ms/step - loss: 0.1976 - accuracy: 0.9299 - val_loss: 0.9123 - val_accuracy: 0.7741\n",
            "Epoch 92/150\n",
            "51/51 [==============================] - 1s 12ms/step - loss: 0.1785 - accuracy: 0.9380 - val_loss: 0.9378 - val_accuracy: 0.7713\n",
            "Epoch 93/150\n",
            "51/51 [==============================] - 1s 14ms/step - loss: 0.1850 - accuracy: 0.9346 - val_loss: 0.9083 - val_accuracy: 0.7750\n",
            "Epoch 94/150\n",
            "51/51 [==============================] - 1s 13ms/step - loss: 0.1886 - accuracy: 0.9244 - val_loss: 0.9142 - val_accuracy: 0.7704\n",
            "Epoch 95/150\n",
            "51/51 [==============================] - 1s 15ms/step - loss: 0.1856 - accuracy: 0.9358 - val_loss: 0.8969 - val_accuracy: 0.7833\n",
            "Epoch 96/150\n",
            "51/51 [==============================] - 1s 19ms/step - loss: 0.1609 - accuracy: 0.9423 - val_loss: 0.9320 - val_accuracy: 0.7713\n",
            "Epoch 97/150\n",
            "51/51 [==============================] - 1s 19ms/step - loss: 0.1710 - accuracy: 0.9404 - val_loss: 0.9538 - val_accuracy: 0.7750\n",
            "Epoch 98/150\n",
            "51/51 [==============================] - 1s 12ms/step - loss: 0.1619 - accuracy: 0.9410 - val_loss: 0.9522 - val_accuracy: 0.7833\n",
            "Epoch 99/150\n",
            "51/51 [==============================] - 1s 12ms/step - loss: 0.1649 - accuracy: 0.9395 - val_loss: 0.9002 - val_accuracy: 0.7806\n",
            "Epoch 100/150\n",
            "51/51 [==============================] - 1s 12ms/step - loss: 0.1607 - accuracy: 0.9392 - val_loss: 0.8912 - val_accuracy: 0.7889\n",
            "Epoch 101/150\n",
            "51/51 [==============================] - 1s 12ms/step - loss: 0.1594 - accuracy: 0.9438 - val_loss: 0.8979 - val_accuracy: 0.7926\n",
            "Epoch 102/150\n",
            "51/51 [==============================] - 1s 12ms/step - loss: 0.1585 - accuracy: 0.9463 - val_loss: 0.9217 - val_accuracy: 0.7833\n",
            "Epoch 103/150\n",
            "51/51 [==============================] - 1s 12ms/step - loss: 0.1705 - accuracy: 0.9361 - val_loss: 0.9001 - val_accuracy: 0.7880\n",
            "Epoch 104/150\n",
            "51/51 [==============================] - 1s 12ms/step - loss: 0.1548 - accuracy: 0.9426 - val_loss: 0.9138 - val_accuracy: 0.8000\n",
            "Epoch 105/150\n",
            "51/51 [==============================] - 1s 11ms/step - loss: 0.1442 - accuracy: 0.9475 - val_loss: 0.9523 - val_accuracy: 0.7806\n",
            "Epoch 106/150\n",
            "51/51 [==============================] - 1s 13ms/step - loss: 0.1435 - accuracy: 0.9497 - val_loss: 0.9264 - val_accuracy: 0.7824\n",
            "Epoch 107/150\n",
            "51/51 [==============================] - 1s 11ms/step - loss: 0.1434 - accuracy: 0.9494 - val_loss: 0.9588 - val_accuracy: 0.7907\n",
            "Epoch 108/150\n",
            "51/51 [==============================] - 1s 12ms/step - loss: 0.1298 - accuracy: 0.9546 - val_loss: 0.9134 - val_accuracy: 0.7898\n",
            "Epoch 109/150\n",
            "51/51 [==============================] - 1s 11ms/step - loss: 0.1399 - accuracy: 0.9519 - val_loss: 0.9314 - val_accuracy: 0.7963\n",
            "Epoch 110/150\n",
            "51/51 [==============================] - 1s 12ms/step - loss: 0.1549 - accuracy: 0.9454 - val_loss: 0.9389 - val_accuracy: 0.7889\n",
            "Epoch 111/150\n",
            "51/51 [==============================] - 1s 12ms/step - loss: 0.1405 - accuracy: 0.9497 - val_loss: 0.9775 - val_accuracy: 0.7852\n",
            "Epoch 112/150\n",
            "51/51 [==============================] - 1s 12ms/step - loss: 0.1388 - accuracy: 0.9512 - val_loss: 0.9397 - val_accuracy: 0.7833\n",
            "Epoch 113/150\n",
            "51/51 [==============================] - 1s 12ms/step - loss: 0.1516 - accuracy: 0.9509 - val_loss: 0.8931 - val_accuracy: 0.7935\n",
            "Epoch 114/150\n",
            "51/51 [==============================] - 1s 17ms/step - loss: 0.1384 - accuracy: 0.9528 - val_loss: 0.9887 - val_accuracy: 0.7935\n",
            "Epoch 115/150\n",
            "51/51 [==============================] - 1s 18ms/step - loss: 0.1325 - accuracy: 0.9522 - val_loss: 0.9474 - val_accuracy: 0.7944\n",
            "Epoch 116/150\n",
            "51/51 [==============================] - 1s 14ms/step - loss: 0.1246 - accuracy: 0.9574 - val_loss: 0.9617 - val_accuracy: 0.7972\n",
            "Epoch 117/150\n",
            "51/51 [==============================] - 1s 12ms/step - loss: 0.1341 - accuracy: 0.9528 - val_loss: 0.9668 - val_accuracy: 0.7898\n",
            "Epoch 118/150\n",
            "51/51 [==============================] - 1s 14ms/step - loss: 0.1557 - accuracy: 0.9438 - val_loss: 0.9208 - val_accuracy: 0.7926\n",
            "Epoch 119/150\n",
            "51/51 [==============================] - 1s 12ms/step - loss: 0.1377 - accuracy: 0.9488 - val_loss: 0.9524 - val_accuracy: 0.7981\n",
            "Epoch 120/150\n",
            "51/51 [==============================] - 1s 14ms/step - loss: 0.1287 - accuracy: 0.9546 - val_loss: 0.9197 - val_accuracy: 0.8037\n",
            "Epoch 121/150\n",
            "51/51 [==============================] - 1s 13ms/step - loss: 0.1091 - accuracy: 0.9639 - val_loss: 0.9150 - val_accuracy: 0.8019\n",
            "Epoch 122/150\n",
            "51/51 [==============================] - 1s 12ms/step - loss: 0.1275 - accuracy: 0.9574 - val_loss: 0.9257 - val_accuracy: 0.8019\n",
            "Epoch 123/150\n",
            "51/51 [==============================] - 1s 11ms/step - loss: 0.1202 - accuracy: 0.9571 - val_loss: 0.9061 - val_accuracy: 0.8037\n",
            "Epoch 124/150\n",
            "51/51 [==============================] - 1s 11ms/step - loss: 0.1153 - accuracy: 0.9611 - val_loss: 0.9158 - val_accuracy: 0.7981\n",
            "Epoch 125/150\n",
            "51/51 [==============================] - 1s 11ms/step - loss: 0.1350 - accuracy: 0.9531 - val_loss: 0.9462 - val_accuracy: 0.7991\n",
            "Epoch 126/150\n",
            "51/51 [==============================] - 1s 12ms/step - loss: 0.1177 - accuracy: 0.9574 - val_loss: 0.9284 - val_accuracy: 0.7991\n",
            "Epoch 127/150\n",
            "51/51 [==============================] - 1s 13ms/step - loss: 0.1265 - accuracy: 0.9556 - val_loss: 0.9266 - val_accuracy: 0.8009\n",
            "Epoch 128/150\n",
            "51/51 [==============================] - 1s 13ms/step - loss: 0.1117 - accuracy: 0.9611 - val_loss: 0.9096 - val_accuracy: 0.7991\n",
            "Epoch 129/150\n",
            "51/51 [==============================] - 1s 13ms/step - loss: 0.1196 - accuracy: 0.9537 - val_loss: 0.9431 - val_accuracy: 0.8074\n",
            "Epoch 130/150\n",
            "51/51 [==============================] - 1s 11ms/step - loss: 0.1259 - accuracy: 0.9537 - val_loss: 0.9204 - val_accuracy: 0.7880\n",
            "Epoch 131/150\n",
            "51/51 [==============================] - 1s 14ms/step - loss: 0.1151 - accuracy: 0.9562 - val_loss: 0.9269 - val_accuracy: 0.8065\n",
            "Epoch 132/150\n",
            "51/51 [==============================] - 1s 19ms/step - loss: 0.1096 - accuracy: 0.9633 - val_loss: 0.9551 - val_accuracy: 0.8037\n",
            "Epoch 133/150\n",
            "51/51 [==============================] - 1s 18ms/step - loss: 0.1061 - accuracy: 0.9593 - val_loss: 0.9595 - val_accuracy: 0.7991\n",
            "Epoch 134/150\n",
            "51/51 [==============================] - 1s 15ms/step - loss: 0.1072 - accuracy: 0.9620 - val_loss: 0.9474 - val_accuracy: 0.8000\n",
            "Epoch 135/150\n",
            "51/51 [==============================] - 1s 11ms/step - loss: 0.1149 - accuracy: 0.9599 - val_loss: 0.9855 - val_accuracy: 0.7880\n",
            "Epoch 136/150\n",
            "51/51 [==============================] - 1s 13ms/step - loss: 0.0955 - accuracy: 0.9691 - val_loss: 0.9210 - val_accuracy: 0.8102\n",
            "Epoch 137/150\n",
            "51/51 [==============================] - 1s 11ms/step - loss: 0.1035 - accuracy: 0.9645 - val_loss: 1.0110 - val_accuracy: 0.7935\n",
            "Epoch 138/150\n",
            "51/51 [==============================] - 1s 13ms/step - loss: 0.1080 - accuracy: 0.9627 - val_loss: 0.9601 - val_accuracy: 0.7944\n",
            "Epoch 139/150\n",
            "51/51 [==============================] - 1s 11ms/step - loss: 0.1160 - accuracy: 0.9586 - val_loss: 0.9699 - val_accuracy: 0.7935\n",
            "Epoch 140/150\n",
            "51/51 [==============================] - 1s 11ms/step - loss: 0.1115 - accuracy: 0.9593 - val_loss: 0.9948 - val_accuracy: 0.7944\n",
            "Epoch 141/150\n",
            "51/51 [==============================] - 1s 12ms/step - loss: 0.1174 - accuracy: 0.9593 - val_loss: 1.0023 - val_accuracy: 0.7852\n",
            "Epoch 142/150\n",
            "51/51 [==============================] - 1s 12ms/step - loss: 0.1034 - accuracy: 0.9657 - val_loss: 0.9821 - val_accuracy: 0.7954\n",
            "Epoch 143/150\n",
            "51/51 [==============================] - 1s 13ms/step - loss: 0.1042 - accuracy: 0.9633 - val_loss: 0.9788 - val_accuracy: 0.8019\n",
            "Epoch 144/150\n",
            "51/51 [==============================] - 1s 11ms/step - loss: 0.1178 - accuracy: 0.9590 - val_loss: 0.9965 - val_accuracy: 0.7907\n",
            "Epoch 145/150\n",
            "51/51 [==============================] - 1s 11ms/step - loss: 0.1099 - accuracy: 0.9651 - val_loss: 0.9611 - val_accuracy: 0.8056\n",
            "Epoch 146/150\n",
            "51/51 [==============================] - 1s 13ms/step - loss: 0.0865 - accuracy: 0.9679 - val_loss: 1.0319 - val_accuracy: 0.7972\n",
            "Epoch 147/150\n",
            "51/51 [==============================] - 1s 12ms/step - loss: 0.1100 - accuracy: 0.9605 - val_loss: 1.0103 - val_accuracy: 0.8028\n",
            "Epoch 148/150\n",
            "51/51 [==============================] - 1s 11ms/step - loss: 0.1357 - accuracy: 0.9562 - val_loss: 1.0147 - val_accuracy: 0.8102\n",
            "Epoch 149/150\n",
            "51/51 [==============================] - 1s 12ms/step - loss: 0.1078 - accuracy: 0.9617 - val_loss: 1.0495 - val_accuracy: 0.7880\n",
            "Epoch 150/150\n",
            "51/51 [==============================] - 1s 16ms/step - loss: 0.1019 - accuracy: 0.9614 - val_loss: 0.9712 - val_accuracy: 0.8009\n"
          ]
        }
      ]
    },
    {
      "cell_type": "code",
      "source": [
        "train_acc = history.history['accuracy']\n",
        "val_acc = history.history['val_accuracy']\n",
        "\n",
        "# Plot the accuracy curve\n",
        "epochs = range(1, len(train_acc) + 1)\n",
        "plt.plot(epochs, train_acc, 'b', label='Training Accuracy')\n",
        "plt.plot(epochs, val_acc, 'r', label='Validation Accuracy')\n",
        "plt.title('Training and Validation Accuracy')\n",
        "plt.xlabel('Epochs')\n",
        "plt.ylabel('Accuracy')\n",
        "plt.legend()\n",
        "plt.show()"
      ],
      "metadata": {
        "colab": {
          "base_uri": "https://localhost:8080/",
          "height": 472
        },
        "id": "OihxRRnUBgfl",
        "outputId": "685cd4fe-ca17-46c7-fb74-e7be4694d6b1"
      },
      "execution_count": null,
      "outputs": [
        {
          "output_type": "display_data",
          "data": {
            "text/plain": [
              "<Figure size 640x480 with 1 Axes>"
            ],
            "image/png": "[encoded data removed]"
          },
          "metadata": {}
        }
      ]
    },
    {
      "cell_type": "code",
      "source": [
        "train_loss = history.history['loss']\n",
        "val_loss = history.history['val_loss']\n",
        "\n",
        "# Plot the loss curve\n",
        "epochs = range(1, len(train_loss) + 1)\n",
        "plt.plot(epochs, train_loss, 'b', label='Training Loss')\n",
        "plt.plot(epochs, val_loss, 'r', label='Validation Loss')\n",
        "plt.title('Training and Validation Loss')\n",
        "plt.xlabel('Epochs')\n",
        "plt.ylabel('Loss')\n",
        "plt.legend()\n",
        "plt.show()"
      ],
      "metadata": {
        "colab": {
          "base_uri": "https://localhost:8080/",
          "height": 472
        },
        "id": "wzeGVtRYCApH",
        "outputId": "dd5fe6f1-c7a3-4a23-c973-eb1b54c845bb"
      },
      "execution_count": null,
      "outputs": [
        {
          "output_type": "display_data",
          "data": {
            "text/plain": [
              "<Figure size 640x480 with 1 Axes>"
            ],
            "image/png": "[encoded data removed]"
          },
          "metadata": {}
        }
      ]
    },
    {
      "cell_type": "code",
      "source": [
        "import graphviz\n",
        "from tensorflow.keras.utils import plot_model\n",
        "plot_model(model, to_file='model.png', show_shapes=True)"
      ],
      "metadata": {
        "colab": {
          "base_uri": "https://localhost:8080/",
          "height": 865
        },
        "id": "4iSeaK-7EKHi",
        "outputId": "b518004b-dd85-46be-cc11-f8a4349fe86d"
      },
      "execution_count": null,
      "outputs": [
        {
          "output_type": "execute_result",
          "data": {
            "image/png": "[encoded data removed]",
            "text/plain": [
              "<IPython.core.display.Image object>"
            ]
          },
          "metadata": {},
          "execution_count": 61
        }
      ]
    },
    {
      "cell_type": "code",
      "source": [
        "from keras.models import Sequential\n",
        "from keras.layers import Dense, Dropout, BatchNormalization\n",
        "from keras.optimizers import Adam\n",
        "\n",
        "num_features = x_train.shape[1]\n",
        "num_classes = 8\n",
        "\n",
        "model = Sequential()\n",
        "\n",
        "model.add(Dense(256, activation='relu', input_shape=(num_features,)))\n",
        "model.add(Dropout(0.2))\n",
        "model.add(BatchNormalization())\n",
        "\n",
        "model.add(Dense(128, activation='relu'))\n",
        "model.add(Dropout(0.2))\n",
        "model.add(BatchNormalization())\n",
        "\n",
        "model.add(Dense(64, activation='relu'))\n",
        "model.add(Dropout(0.2))\n",
        "model.add(BatchNormalization())\n",
        "\n",
        "model.add(Dense(num_classes, activation='softmax'))\n",
        "\n",
        "adam = Adam(lr=0.001)\n",
        "model.compile(loss='categorical_crossentropy', optimizer=adam, metrics=['accuracy'])\n",
        "\n",
        "model.summary()\n"
      ],
      "metadata": {
        "colab": {
          "base_uri": "https://localhost:8080/"
        },
        "id": "QwUSmS5Y0-Co",
        "outputId": "0ea7e1c0-26cc-4e6c-c9a5-4927360303b2"
      },
      "execution_count": null,
      "outputs": [
        {
          "output_type": "stream",
          "name": "stdout",
          "text": [
            "Model: \"sequential_3\"\n",
            "_________________________________________________________________\n",
            " Layer (type)                Output Shape              Param #   \n",
            "=================================================================\n",
            " dense_10 (Dense)            (None, 256)               41728     \n",
            "                                                                 \n",
            " dropout_11 (Dropout)        (None, 256)               0         \n",
            "                                                                 \n",
            " batch_normalization_6 (Batc  (None, 256)              1024      \n",
            " hNormalization)                                                 \n",
            "                                                                 \n",
            " dense_11 (Dense)            (None, 128)               32896     \n",
            "                                                                 \n",
            " dropout_12 (Dropout)        (None, 128)               0         \n",
            "                                                                 \n",
            " batch_normalization_7 (Batc  (None, 128)              512       \n",
            " hNormalization)                                                 \n",
            "                                                                 \n",
            " dense_12 (Dense)            (None, 64)                8256      \n",
            "                                                                 \n",
            " dropout_13 (Dropout)        (None, 64)                0         \n",
            "                                                                 \n",
            " batch_normalization_8 (Batc  (None, 64)               256       \n",
            " hNormalization)                                                 \n",
            "                                                                 \n",
            " dense_13 (Dense)            (None, 8)                 520       \n",
            "                                                                 \n",
            "=================================================================\n",
            "Total params: 85,192\n",
            "Trainable params: 84,296\n",
            "Non-trainable params: 896\n",
            "_________________________________________________________________\n"
          ]
        },
        {
          "output_type": "stream",
          "name": "stderr",
          "text": [
            "/usr/local/lib/python3.10/dist-packages/keras/optimizers/legacy/adam.py:117: UserWarning: The `lr` argument is deprecated, use `learning_rate` instead.\n",
            "  super().__init__(name, **kwargs)\n"
          ]
        }
      ]
    },
    {
      "cell_type": "code",
      "source": [
        "from kerastuner.tuners import RandomSearch\n",
        "from kerastuner.engine.hyperparameters import HyperParameters\n",
        "import time\n",
        "\n",
        "# Specify the hyperparameter search space\n",
        "hp = HyperParameters()\n",
        "\n",
        "hp.Choice('units', values=[64, 128, 256])\n",
        "hp.Choice('dropout', values=[0.2, 0.3, 0.4])\n",
        "\n",
        "# Define a function that will build and compile a model given a set of hyperparameters\n",
        "def build_model(hp):\n",
        "    model = Sequential()\n",
        "\n",
        "    model.add(LSTM(units=hp.get('units'), return_sequences=True, input_shape=(x_train.shape[1], 1)))\n",
        "    model.add(Dropout(rate=hp.get('dropout')))\n",
        "\n",
        "    model.add(LSTM(units=hp.get('units')))\n",
        "    model.add(Dropout(rate=hp.get('dropout')))\n",
        "\n",
        "    model.add(Dense(units=hp.get('units'), activation='relu'))\n",
        "    model.add(Dropout(rate=hp.get('dropout')))\n",
        "\n",
        "    model.add(Dense(units=hp.get('units'), activation='relu'))\n",
        "\n",
        "    model.add(Dense(num_classes, activation='softmax'))\n",
        "\n",
        "    model.compile(loss='categorical_crossentropy', optimizer=Adam(lr=0.001), metrics=['accuracy'])\n",
        "\n",
        "    return model\n",
        "\n",
        "# Perform the hyperparameter search\n",
        "tuner = RandomSearch(\n",
        "    build_model,\n",
        "    objective='val_accuracy',\n",
        "    max_trials=5,  # the number of different models to try\n",
        "    executions_per_trial=3,  # the number of times to train each model, to average out performance fluctuations\n",
        "    directory='random_search',\n",
        "    project_name=str(time.time())  # name of the directory where the results will be stored\n",
        ")\n",
        "\n",
        "tuner.search_space_summary()\n",
        "\n",
        "tuner.search(x_train, y_train, epochs=5, validation_data=(x_test, y_test))\n",
        "\n",
        "tuner.results_summary()\n"
      ],
      "metadata": {
        "id": "QyC1x_w40vYK"
      },
      "execution_count": null,
      "outputs": []
    },
    {
      "cell_type": "markdown",
      "source": [
        "CNN + LSTM (SPECTROGRAMS)"
      ],
      "metadata": {
        "id": "AGp3YLY5DmIA"
      }
    },
    {
      "cell_type": "code",
      "source": [
        "data_path"
      ],
      "metadata": {
        "id": "xbt4jdX7wkoz"
      },
      "execution_count": null,
      "outputs": []
    },
    {
      "cell_type": "code",
      "source": [
        "path = \"/content/dataset/Actor_01/03-01-03-01-02-01-01.wav\"\n",
        "audio_data, sample_rate = librosa.load(path)"
      ],
      "metadata": {
        "id": "28z7OXUjzSQ4"
      },
      "execution_count": null,
      "outputs": []
    },
    {
      "cell_type": "code",
      "source": [
        "def plot_histogram(stft):\n",
        "    plt.figure(figsize=(10, 4))\n",
        "    librosa.display.specshow(librosa.amplitude_to_db(abs(stft), ref=np.max), y_axis='log', x_axis='time')\n",
        "    plt.colorbar(format='%+2.0f dB')\n",
        "    plt.title('Spectrogram')\n",
        "    plt.tight_layout()\n",
        "    plt.show()"
      ],
      "metadata": {
        "id": "qEwMNFsm06uB"
      },
      "execution_count": null,
      "outputs": []
    },
    {
      "cell_type": "code",
      "source": [
        "# Compute the Mel spectrogram\n",
        "mel_spec = librosa.feature.melspectrogram(y=audio_data, sr=sample_rate)\n",
        "\n",
        "# Convert to log scale (dB)\n",
        "mel_spec_db = librosa.power_to_db(mel_spec, ref=np.max)\n",
        "\n",
        "# Plot the Mel spectrogram\n",
        "plt.figure(figsize=(10, 6))\n",
        "librosa.display.specshow(mel_spec_db, sr=sample_rate, x_axis='time', y_axis='mel')\n",
        "plt.colorbar(format='%+2.0f dB')\n",
        "plt.title('Mel Spectrogram of Happy Sample', size=16)\n",
        "plt.xlabel('Time (s)', size=12)\n",
        "plt.ylabel('Mel Frequency', size=12)\n",
        "plt.tight_layout()\n",
        "plt.show()"
      ],
      "metadata": {
        "id": "DfrP18vHxnQ1"
      },
      "execution_count": null,
      "outputs": []
    },
    {
      "cell_type": "code",
      "source": [
        "def get_spectrogram(data, sample_rate):\n",
        "    spec = librosa.feature.melspectrogram(y=data, sr=sample_rate)\n",
        "    return spec"
      ],
      "metadata": {
        "id": "2tp6N328w38G"
      },
      "execution_count": null,
      "outputs": []
    },
    {
      "cell_type": "code",
      "source": [
        "get_spectrogram(data).shape"
      ],
      "metadata": {
        "colab": {
          "base_uri": "https://localhost:8080/"
        },
        "id": "Gwx3LwsvzaNE",
        "outputId": "2d7df007-5508-411c-8180-9fadc80c17e7"
      },
      "execution_count": null,
      "outputs": [
        {
          "output_type": "execute_result",
          "data": {
            "text/plain": [
              "(1025, 108)"
            ]
          },
          "metadata": {},
          "execution_count": 38
        }
      ]
    },
    {
      "cell_type": "code",
      "source": [
        "def save_spectrogram(feature):\n",
        "    plt.figure(figsize=(10, 4))\n",
        "    librosa.display.specshow(librosa.power_to_db(feature, ref=np.max), y_axis='mel', fmax=8000, x_axis='time')\n",
        "    plt.colorbar(format='%+2.0f dB')\n",
        "\n",
        "    plt.savefig(f\"/content/spectrograms/{emotion}/spectrogram_{index}.png\")\n",
        "    plt.close()"
      ],
      "metadata": {
        "id": "B0hmq03DuhYR"
      },
      "execution_count": null,
      "outputs": []
    },
    {
      "cell_type": "code",
      "source": [
        "index = 0\n",
        "for path, emotion in zip(data_path.Path, data_path.Emotions):\n",
        "    data, sample_rate = librosa.load(path, duration=2.5, offset=0.6)\n",
        "\n",
        "    noise_data = noise(audio_data)\n",
        "    stretched_data = noise(audio_data)\n",
        "    shifted_data = shift(audio_data)\n",
        "    pitched_data = pitch(audio_data, sample_rate)\n",
        "\n",
        "    feature = get_spectrogram(data, sample_rate)\n",
        "    save_spectrogram(feature)\n",
        "    index += 1"
      ],
      "metadata": {
        "id": "yybcUgi21MZP"
      },
      "execution_count": null,
      "outputs": []
    },
    {
      "cell_type": "code",
      "source": [
        "from PIL import Image\n",
        "\n",
        "img = Image.open('/content/spectrograms/angry/spectrogram_1002.png')\n",
        "\n",
        "# Get the size of the image\n",
        "width, height = img.size\n",
        "\n",
        "print('Width: ', width)\n",
        "print('Height: ', height)"
      ],
      "metadata": {
        "colab": {
          "base_uri": "https://localhost:8080/"
        },
        "id": "i7MrpjN6WZqN",
        "outputId": "55225fbb-c69b-4865-ff35-a9843170a084"
      },
      "execution_count": null,
      "outputs": [
        {
          "output_type": "stream",
          "name": "stdout",
          "text": [
            "Width:  1000\n",
            "Height:  400\n"
          ]
        }
      ]
    },
    {
      "cell_type": "code",
      "source": [
        "from keras.preprocessing.image import ImageDataGenerator\n",
        "\n",
        "datagen = ImageDataGenerator(rescale=1./255, validation_split=0.2)\n",
        "\n",
        "train_generator = datagen.flow_from_directory(\n",
        "    '/content/spectrograms/',\n",
        "    target_size=(500, 200),\n",
        "    batch_size=32,\n",
        "    class_mode='categorical',\n",
        "    subset='training',\n",
        "    color_mode = 'rgb'\n",
        ")\n",
        "\n",
        "validation_generator = datagen.flow_from_directory(\n",
        "    '/content/spectrograms/',\n",
        "    target_size=(500, 200),\n",
        "    batch_size=32,\n",
        "    class_mode='categorical',\n",
        "    subset='validation',\n",
        "    color_mode ='rgb'\n",
        ")"
      ],
      "metadata": {
        "colab": {
          "base_uri": "https://localhost:8080/"
        },
        "id": "4_Ph1z3kYOR1",
        "outputId": "1d16f29b-c17f-4071-92f4-038bfdf431c7"
      },
      "execution_count": null,
      "outputs": [
        {
          "output_type": "stream",
          "name": "stdout",
          "text": [
            "Found 1155 images belonging to 9 classes.\n",
            "Found 285 images belonging to 9 classes.\n"
          ]
        }
      ]
    },
    {
      "cell_type": "code",
      "source": [
        "print(train_generator.class_indices)"
      ],
      "metadata": {
        "id": "Lk1mmr9obAap"
      },
      "execution_count": null,
      "outputs": []
    },
    {
      "cell_type": "code",
      "source": [
        "from keras.models import Sequential\n",
        "from keras.layers import Conv2D, MaxPooling2D, Flatten, Dense, Dropout, BatchNormalization\n",
        "from keras.losses import categorical_crossentropy\n",
        "from keras.optimizers import Adam\n",
        "\n",
        "img_height = 500\n",
        "img_width = 200\n",
        "num_classes = 9\n",
        "model = Sequential([\n",
        "    Conv2D(32, kernel_size=(3, 3), activation='relu', input_shape=(img_height, img_width, 3)),\n",
        "    BatchNormalization(),\n",
        "    MaxPooling2D(pool_size=(2, 2)),\n",
        "\n",
        "    Conv2D(64, kernel_size=(3, 3), activation='relu'),\n",
        "    BatchNormalization(),\n",
        "    MaxPooling2D(pool_size=(2, 2)),\n",
        "\n",
        "    Conv2D(128, kernel_size=(3, 3), activation='relu'),\n",
        "    BatchNormalization(),\n",
        "    MaxPooling2D(pool_size=(2, 2)),\n",
        "\n",
        "    Flatten(),\n",
        "\n",
        "    Dense(128, activation='relu'),\n",
        "    BatchNormalization(),\n",
        "    Dropout(0.5),\n",
        "\n",
        "    Dense(64, activation='relu'),\n",
        "    BatchNormalization(),\n",
        "    Dropout(0.5),\n",
        "\n",
        "    Dense(num_classes, activation='softmax')\n",
        "])\n",
        "\n",
        "model.compile(loss=categorical_crossentropy,\n",
        "              optimizer=Adam(),\n",
        "              metrics=['accuracy'])\n",
        "\n",
        "model.summary()"
      ],
      "metadata": {
        "colab": {
          "base_uri": "https://localhost:8080/"
        },
        "id": "019fogHRZhE5",
        "outputId": "5f023305-ecbd-459f-8de6-72a189887093"
      },
      "execution_count": null,
      "outputs": [
        {
          "output_type": "stream",
          "name": "stdout",
          "text": [
            "Model: \"sequential_3\"\n",
            "_________________________________________________________________\n",
            " Layer (type)                Output Shape              Param #   \n",
            "=================================================================\n",
            " conv2d_14 (Conv2D)          (None, 498, 198, 32)      896       \n",
            "                                                                 \n",
            " batch_normalization_5 (Batc  (None, 498, 198, 32)     128       \n",
            " hNormalization)                                                 \n",
            "                                                                 \n",
            " max_pooling2d_9 (MaxPooling  (None, 249, 99, 32)      0         \n",
            " 2D)                                                             \n",
            "                                                                 \n",
            " conv2d_15 (Conv2D)          (None, 247, 97, 64)       18496     \n",
            "                                                                 \n",
            " batch_normalization_6 (Batc  (None, 247, 97, 64)      256       \n",
            " hNormalization)                                                 \n",
            "                                                                 \n",
            " max_pooling2d_10 (MaxPoolin  (None, 123, 48, 64)      0         \n",
            " g2D)                                                            \n",
            "                                                                 \n",
            " conv2d_16 (Conv2D)          (None, 121, 46, 128)      73856     \n",
            "                                                                 \n",
            " batch_normalization_7 (Batc  (None, 121, 46, 128)     512       \n",
            " hNormalization)                                                 \n",
            "                                                                 \n",
            " max_pooling2d_11 (MaxPoolin  (None, 60, 23, 128)      0         \n",
            " g2D)                                                            \n",
            "                                                                 \n",
            " flatten_3 (Flatten)         (None, 176640)            0         \n",
            "                                                                 \n",
            " dense_9 (Dense)             (None, 128)               22610048  \n",
            "                                                                 \n",
            " batch_normalization_8 (Batc  (None, 128)              512       \n",
            " hNormalization)                                                 \n",
            "                                                                 \n",
            " dropout_6 (Dropout)         (None, 128)               0         \n",
            "                                                                 \n",
            " dense_10 (Dense)            (None, 64)                8256      \n",
            "                                                                 \n",
            " batch_normalization_9 (Batc  (None, 64)               256       \n",
            " hNormalization)                                                 \n",
            "                                                                 \n",
            " dropout_7 (Dropout)         (None, 64)                0         \n",
            "                                                                 \n",
            " dense_11 (Dense)            (None, 9)                 585       \n",
            "                                                                 \n",
            "=================================================================\n",
            "Total params: 22,713,801\n",
            "Trainable params: 22,712,969\n",
            "Non-trainable params: 832\n",
            "_________________________________________________________________\n"
          ]
        }
      ]
    },
    {
      "cell_type": "code",
      "source": [
        "model.fit(train_generator, epochs=10, validation_data=validation_generator)"
      ],
      "metadata": {
        "id": "pzKO-13IaHRj"
      },
      "execution_count": null,
      "outputs": []
    },
    {
      "cell_type": "code",
      "source": [
        "for index in range(0, len(X)):\n",
        "  if X[index].shape != (1025, 108):\n",
        "    data = X[index]\n",
        "    data = np.pad(data, pad_width=((0, 0), (0, 108 - data.shape[1])), mode='constant')\n",
        "    X[index] = data\n",
        "    print(X[index].shape)"
      ],
      "metadata": {
        "id": "t6BV_afq4xAl"
      },
      "execution_count": null,
      "outputs": []
    },
    {
      "cell_type": "code",
      "source": [
        "X = np.asarray(X)\n",
        "X.shape"
      ],
      "metadata": {
        "colab": {
          "base_uri": "https://localhost:8080/"
        },
        "id": "XCmcit0i70bv",
        "outputId": "949c1b2e-e1a1-47d3-879d-6ce010846dd8"
      },
      "execution_count": null,
      "outputs": [
        {
          "output_type": "execute_result",
          "data": {
            "text/plain": [
              "(1440, 1025, 108)"
            ]
          },
          "metadata": {},
          "execution_count": 60
        }
      ]
    },
    {
      "cell_type": "code",
      "source": [
        "pip install --upgrade tensorflow"
      ],
      "metadata": {
        "id": "CHxG1TsKk-GT"
      },
      "execution_count": null,
      "outputs": []
    },
    {
      "cell_type": "code",
      "source": [
        "import tensorflow as tf\n",
        "from tensorflow.keras.layers import Input, Conv1D, GlobalAveragePooling1D, Dense, Concatenate, Activation\n",
        "from tensorflow.keras.models import Model\n",
        "\n",
        "class TransformerBlock(tf.keras.layers.Layer):\n",
        "    def __init__(self, embed_dim, num_heads, ff_dim, rate=0.1):\n",
        "        super(TransformerBlock, self).__init__()\n",
        "        self.att = tf.keras.layers.MultiHeadAttention(num_heads=num_heads, key_dim=embed_dim)\n",
        "        self.ffn = tf.keras.Sequential(\n",
        "            [tf.keras.layers.Dense(ff_dim, activation=\"relu\"), tf.keras.layers.Dense(embed_dim),]\n",
        "        )\n",
        "        self.layernorm1 = tf.keras.layers.LayerNormalization(epsilon=1e-6)\n",
        "        self.layernorm2 = tf.keras.layers.LayerNormalization(epsilon=1e-6)\n",
        "        self.dropout1 = tf.keras.layers.Dropout(rate)\n",
        "        self.dropout2 = tf.keras.layers.Dropout(rate)\n",
        "\n",
        "    def call(self, inputs, training):\n",
        "        attn_output = self.att(inputs, inputs)\n",
        "        attn_output = self.dropout1(attn_output, training=training)\n",
        "        out1 = self.layernorm1(inputs + attn_output)\n",
        "        ffn_output = self.ffn(out1)\n",
        "        ffn_output = self.dropout2(ffn_output, training=training)\n",
        "        return self.layernorm2(out1 + ffn_output)\n",
        "\n",
        "\n",
        "def create_timnet(input_shape, num_classes, num_filters=64, num_blocks=3, kernel_size=2):\n",
        "    inputs = Input(shape=input_shape)\n",
        "\n",
        "    feature_maps = []\n",
        "\n",
        "    for i in range(num_blocks):\n",
        "        dilation_rate = 2 ** i\n",
        "\n",
        "        # Temporal-aware block\n",
        "        conv1 = Conv1D(filters=num_filters, kernel_size=kernel_size,\n",
        "                       dilation_rate=dilation_rate, padding='causal')(inputs)\n",
        "        conv1 = Activation('relu')(conv1)\n",
        "\n",
        "        conv2 = Conv1D(filters=num_filters, kernel_size=kernel_size,\n",
        "                       dilation_rate=dilation_rate, padding='causal')(conv1)\n",
        "        conv2 = Activation('relu')(conv2)\n",
        "\n",
        "        # Add a transformer block after the convolutions\n",
        "        transformer_block = TransformerBlock(num_filters, num_heads=2, ff_dim=num_filters)\n",
        "        conv2 = transformer_block(conv2)\n",
        "\n",
        "        # Global average pooling to get a fixed size output irrespective of input size\n",
        "        gap = GlobalAveragePooling1D()(conv2)\n",
        "\n",
        "        feature_maps.append(gap)\n",
        "\n",
        "    # Concatenate the feature maps\n",
        "    concatenated = Concatenate()(feature_maps)\n",
        "\n",
        "    # Final prediction layer\n",
        "    outputs = Dense(num_classes, activation='softmax')(concatenated)\n",
        "\n",
        "    model = Model(inputs=inputs, outputs=outputs)\n",
        "    model.compile(optimizer='adam', loss='categorical_crossentropy', metrics=['accuracy'])\n",
        "\n",
        "    return model\n"
      ],
      "metadata": {
        "id": "a67GCohCqYh0"
      },
      "execution_count": null,
      "outputs": []
    }
  ]
}